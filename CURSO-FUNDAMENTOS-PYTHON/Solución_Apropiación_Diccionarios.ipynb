{
  "nbformat": 4,
  "nbformat_minor": 0,
  "metadata": {
    "colab": {
      "provenance": []
    },
    "kernelspec": {
      "name": "python3",
      "display_name": "Python 3"
    },
    "language_info": {
      "name": "python"
    }
  },
  "cells": [
    {
      "cell_type": "markdown",
      "source": [
        "#Apropiación Diccionarios"
      ],
      "metadata": {
        "id": "k4LMCEpBS0Hv"
      }
    },
    {
      "cell_type": "markdown",
      "source": [
        "#1."
      ],
      "metadata": {
        "id": "2b9KfpicnpU6"
      }
    },
    {
      "cell_type": "markdown",
      "source": [
        "Realice un programa traductor de frutas del español al inglés. Para ello, solicite el nombre de una fruta al usuario y muestre su traducción al inglés. Si la fruta no se encuentra en el diccionario, permítale al usuario agregarla con su respectiva traducción. El programa solo termina cuando el usuario ingresa una fruta que no está en el diccionario y no desea agregarla."
      ],
      "metadata": {
        "id": "Qmvwa8TXLaTg"
      }
    },
    {
      "cell_type": "code",
      "source": [
        "frutas = {\"manzana\": \"apple\", \"naranja\": \"orange\", \"sandia\": \"watermelon\", \"banana\": \"banana\", \"fresa\": \"strawberry\", \"papaya\": \"papaya\", \"coco\": \"coconut\", \"uva\": \"grape\", \"durazno\": \"peach\", \"mandarina\": \"tangerine\"}\n",
        "\n",
        "while True:\n",
        "    frutaseleccionada = input(\"Ingrese una fruta: \")\n",
        "\n",
        "    if frutaseleccionada in frutas:\n",
        "        print(\"La traducción de \" + frutaseleccionada + \" es \" + frutas[frutaseleccionada])\n",
        "    else:\n",
        "        print(\"La fruta no está en el diccionario, ¿desea agregarla?\")\n",
        "        respuesta = input(\"Ingrese 'si' o 'no': \")\n",
        "\n",
        "        if respuesta == \"si\":\n",
        "            traduccion = input(\"Ingrese la traducción de la nueva fruta: \")\n",
        "            frutas[frutaseleccionada] = traduccion\n",
        "            print(f\"La traducción de {frutaseleccionada} es {traduccion}\")\n",
        "\n",
        "        elif respuesta == \"no\":\n",
        "            print(\"Gracias por usar el programa. ¡Hasta luego!\")\n",
        "            break\n",
        "\n",
        "        else:\n",
        "            print(\"Respuesta no válida. Por favor, ingrese 'si' o 'no'.\")\n"
      ],
      "metadata": {
        "colab": {
          "base_uri": "https://localhost:8080/"
        },
        "id": "3qG7BHbHdYLk",
        "outputId": "900b90b9-524c-48a0-9e5b-5f45d20be0ec"
      },
      "execution_count": 3,
      "outputs": [
        {
          "output_type": "stream",
          "name": "stdout",
          "text": [
            "Ingrese una fruta: naranja\n",
            "La traducción de naranja es orange\n",
            "Ingrese una fruta: uva\n",
            "La traducción de uva es grape\n",
            "Ingrese una fruta: huevito\n",
            "La fruta no está en el diccionario, ¿desea agregarla?\n",
            "Ingrese 'si' o 'no': si\n",
            "Ingrese la traducción de la nueva fruta: egg\n",
            "La traducción de huevito es egg\n",
            "Ingrese una fruta: huevito\n",
            "La traducción de huevito es egg\n",
            "Ingrese una fruta: quiero irme\n",
            "La fruta no está en el diccionario, ¿desea agregarla?\n",
            "Ingrese 'si' o 'no': no\n",
            "Gracias por usar el programa. ¡Hasta luego!\n"
          ]
        }
      ]
    },
    {
      "cell_type": "markdown",
      "source": [
        "#2."
      ],
      "metadata": {
        "id": "uJ20WJ3xLoIB"
      }
    },
    {
      "cell_type": "markdown",
      "source": [
        "Desarrolla un traductor sencillo que utilice un diccionario donde las claves sean palabras en español y los valores sus traducciones en inglés. El usuario ingresará una palabra en español; si la palabra se encuentra en el diccionario, se mostrará su traducción. En caso contrario, se le solicitará al usuario que proporcione la traducción, la cual se agregará al diccionario. El proceso se repetirá hasta que el usuario decida finalizar la consulta."
      ],
      "metadata": {
        "id": "f5eQF95VLq5T"
      }
    },
    {
      "cell_type": "code",
      "source": [
        "palabras = {\"hola\": \"hello\", \"sombrero\": \"hat\", \"queso\": \"chesse\", \"golpe\": \"punch\", \"gordo\": \"fat\", \"gato\": \"cat\", \"bailar\": \"dance\", \"correr\": \"run\", \"estudiar\": \"study\", \"libro\": \"book\"}\n",
        "\n",
        "while True:\n",
        "    palabraseleccionada = input(\"Ingrese la palabra que desee traducir: \")\n",
        "\n",
        "    if palabraseleccionada in palabras:\n",
        "        print(\"La traducción de \" + palabraseleccionada + \" es \" + palabras[palabraseleccionada])\n",
        "    else:\n",
        "        print(\"La fruta no está en el diccionario, ¿desea agregarla?\")\n",
        "        respuesta = input(\"Ingrese 'si' o 'no': \")\n",
        "\n",
        "        if respuesta == \"si\":\n",
        "            traduccion = input(\"Ingrese la traducción de la nueva palabra: \")\n",
        "            palabras[palabraseleccionada] = traduccion\n",
        "            print(f\"La traducción de {palabraseleccionada} es {traduccion}\")\n",
        "\n",
        "        elif respuesta == \"no\":\n",
        "            print(\"Gracias por usar el programa. ¡Hasta luego!\")\n",
        "            break\n",
        "\n",
        "        else:\n",
        "            print(\"Respuesta no válida. Por favor, ingrese 'si' o 'no'.\")"
      ],
      "metadata": {
        "colab": {
          "base_uri": "https://localhost:8080/"
        },
        "id": "HLlUOQu_LqUZ",
        "outputId": "61dfb218-0433-4dc4-c39a-62bd72582437"
      },
      "execution_count": 6,
      "outputs": [
        {
          "output_type": "stream",
          "name": "stdout",
          "text": [
            "Ingrese la palabra que desee traducir: sombrero\n",
            "La traducción de sombrero es hat\n",
            "Ingrese la palabra que desee traducir: queso\n",
            "La traducción de queso es chesse\n",
            "Ingrese la palabra que desee traducir: hola\n",
            "La traducción de hola es hello\n",
            "Ingrese la palabra que desee traducir: gordo\n",
            "La traducción de gordo es fat\n",
            "Ingrese la palabra que desee traducir: libro\n",
            "La traducción de libro es book\n",
            "Ingrese la palabra que desee traducir: arroz\n",
            "La fruta no está en el diccionario, ¿desea agregarla?\n",
            "Ingrese 'si' o 'no': si\n",
            "Ingrese la traducción de la nueva palabra: rice\n",
            "La traducción de arroz es rice\n",
            "Ingrese la palabra que desee traducir: arroz\n",
            "La traducción de arroz es rice\n",
            "Ingrese la palabra que desee traducir: adios\n",
            "La fruta no está en el diccionario, ¿desea agregarla?\n",
            "Ingrese 'si' o 'no': no\n",
            "Gracias por usar el programa. ¡Hasta luego!\n"
          ]
        }
      ]
    },
    {
      "cell_type": "markdown",
      "source": [
        "#3."
      ],
      "metadata": {
        "id": "z0HRSCOeOL_1"
      }
    },
    {
      "cell_type": "markdown",
      "source": [
        "Crea una aplicación que administre el inventario de una tienda usando un diccionario, donde cada clave representa el nombre de un producto y cada valor la cantidad en stock. La aplicación debe permitir consultar la cantidad de un producto, actualizar el stock de uno existente, agregar nuevos productos y eliminar aquellos que ya no estén disponibles. Al final se mostrará el inventario actualizado."
      ],
      "metadata": {
        "id": "Shf_m3s3OOF8"
      }
    },
    {
      "cell_type": "code",
      "source": [
        "inventario = {\n",
        "    \"Manzanas\": 10,\n",
        "    \"Bananos\": 5,\n",
        "    \"Leche\": 8,\n",
        "    \"Pan\": 12\n",
        "}\n",
        "\n",
        "while True:\n",
        "    print(\"Menu\")\n",
        "    print(\"1. Consultar producto\")\n",
        "    print(\"2. Actualizar stock\")\n",
        "    print(\"3. Agregar nuevo producto\")\n",
        "    print(\"4. Eliminar producto\")\n",
        "    print(\"5. Mostrar inventario final y salir\")\n",
        "    opcion = input(\"Elige una opción (1-5): \")\n",
        "\n",
        "    if opcion == \"1\":\n",
        "        producto = input(\"Ingresa el producto que deseas consultar: \")\n",
        "        if producto in inventario:\n",
        "            print(f\"Hay {inventario[producto]} unidades de {producto}\")\n",
        "        else:\n",
        "            print(\"Ese producto no está en el inventario\")\n",
        "\n",
        "    elif opcion == \"2\":\n",
        "        producto = input(\"¿Qué producto deseas actualizar?: \")\n",
        "        if producto in inventario:\n",
        "            cantidad = int(input(\"Ingresa la nueva cantidad en stock: \"))\n",
        "            inventario[producto] = cantidad\n",
        "            print(f\"Stock de '{producto}' actualizado a {cantidad} unidades\")\n",
        "        else:\n",
        "            print(\"Ese producto no existe\")\n",
        "\n",
        "    elif opcion == \"3\":\n",
        "        producto = input(\"Escribe el nuevo producto: \")\n",
        "        if producto not in inventario:\n",
        "            cantidad = int(input(\"¿Cuántas unidades hay?: \"))\n",
        "            inventario[producto] = cantidad\n",
        "            print(f\"Producto '{producto}' agregado con {cantidad} unidades\")\n",
        "        else:\n",
        "            print(\"Ese producto ya está en el inventario\")\n",
        "\n",
        "    elif opcion == \"4\":\n",
        "        producto = input(\"¿Qué producto deseas eliminar?: \")\n",
        "        if producto in inventario:\n",
        "            del inventario[producto]\n",
        "            print(f\"Producto '{producto}' eliminado del inventario\")\n",
        "        else:\n",
        "            print(\"No se encontró ese producto\")\n",
        "\n",
        "    elif opcion == \"5\":\n",
        "        print(\"Inventario final actualizado:\")\n",
        "        for producto, cantidad in inventario.items():\n",
        "            print(f\"- {producto}: {cantidad} unidades\")\n",
        "        print(\"Gracias por usar el programa\")\n",
        "        break\n",
        "\n",
        "    else:\n",
        "        print(\"Opción no válida. Por favor ingresa un número del 1 al 5\")\n"
      ],
      "metadata": {
        "colab": {
          "base_uri": "https://localhost:8080/"
        },
        "id": "qJSyMJgwQ-KB",
        "outputId": "ac921e75-3d2e-401f-994a-b5007e0ff8b9"
      },
      "execution_count": 7,
      "outputs": [
        {
          "output_type": "stream",
          "name": "stdout",
          "text": [
            "Menu\n",
            "1. Consultar producto\n",
            "2. Actualizar stock\n",
            "3. Agregar nuevo producto\n",
            "4. Eliminar producto\n",
            "5. Mostrar inventario final y salir\n",
            "Elige una opción (1-5): 1\n",
            "Ingresa el producto que deseas consultar: 1\n",
            "Ese producto no está en el inventario\n",
            "Menu\n",
            "1. Consultar producto\n",
            "2. Actualizar stock\n",
            "3. Agregar nuevo producto\n",
            "4. Eliminar producto\n",
            "5. Mostrar inventario final y salir\n",
            "Elige una opción (1-5): 3\n",
            "Escribe el nuevo producto: huveo\n",
            "¿Cuántas unidades hay?: 2\n",
            "Producto 'huveo' agregado con 2 unidades\n",
            "Menu\n",
            "1. Consultar producto\n",
            "2. Actualizar stock\n",
            "3. Agregar nuevo producto\n",
            "4. Eliminar producto\n",
            "5. Mostrar inventario final y salir\n",
            "Elige una opción (1-5): 3\n",
            "Escribe el nuevo producto: arroz\n",
            "¿Cuántas unidades hay?: 89\n",
            "Producto 'arroz' agregado con 89 unidades\n",
            "Menu\n",
            "1. Consultar producto\n",
            "2. Actualizar stock\n",
            "3. Agregar nuevo producto\n",
            "4. Eliminar producto\n",
            "5. Mostrar inventario final y salir\n",
            "Elige una opción (1-5): 2\n",
            "¿Qué producto deseas actualizar?: arroz\n",
            "Ingresa la nueva cantidad en stock: 2\n",
            "Stock de 'arroz' actualizado a 2 unidades\n",
            "Menu\n",
            "1. Consultar producto\n",
            "2. Actualizar stock\n",
            "3. Agregar nuevo producto\n",
            "4. Eliminar producto\n",
            "5. Mostrar inventario final y salir\n",
            "Elige una opción (1-5): 1\n",
            "Ingresa el producto que deseas consultar: arroz\n",
            "Hay 2 unidades de arroz\n",
            "Menu\n",
            "1. Consultar producto\n",
            "2. Actualizar stock\n",
            "3. Agregar nuevo producto\n",
            "4. Eliminar producto\n",
            "5. Mostrar inventario final y salir\n",
            "Elige una opción (1-5): 4\n",
            "¿Qué producto deseas eliminar?: huveo\n",
            "Producto 'huveo' eliminado del inventario\n",
            "Menu\n",
            "1. Consultar producto\n",
            "2. Actualizar stock\n",
            "3. Agregar nuevo producto\n",
            "4. Eliminar producto\n",
            "5. Mostrar inventario final y salir\n",
            "Elige una opción (1-5): 5\n",
            "Inventario final actualizado:\n",
            "- Manzanas: 10 unidades\n",
            "- Bananos: 5 unidades\n",
            "- Leche: 8 unidades\n",
            "- Pan: 12 unidades\n",
            "- arroz: 2 unidades\n",
            "Gracias por usar el programa\n"
          ]
        }
      ]
    }
  ]
}