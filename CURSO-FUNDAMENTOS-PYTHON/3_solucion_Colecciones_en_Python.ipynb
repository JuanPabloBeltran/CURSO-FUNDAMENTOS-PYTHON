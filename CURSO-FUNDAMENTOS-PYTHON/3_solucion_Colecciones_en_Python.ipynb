{
  "nbformat": 4,
  "nbformat_minor": 0,
  "metadata": {
    "colab": {
      "provenance": []
    },
    "kernelspec": {
      "name": "python3",
      "display_name": "Python 3"
    },
    "language_info": {
      "name": "python"
    }
  },
  "cells": [
    {
      "cell_type": "markdown",
      "source": [
        "# COLECCIONES EN PYTHON"
      ],
      "metadata": {
        "id": "oTQ2_KPDgP6B"
      }
    },
    {
      "cell_type": "markdown",
      "source": [
        "1. Pregunte al usuario cuántos elementos desea ingresar en una lista, luego solicite cada uno de ellos y presente el contenido de la lista y su contenido invertido."
      ],
      "metadata": {
        "id": "v4LFsyrci87Q"
      }
    },
    {
      "cell_type": "code",
      "source": [
        "n = int(input(\"¿Cuántos elementos desea ingresar en la lista? \"))\n",
        "\n",
        "lista = []\n",
        "for i in range(n):\n",
        "    elemento = input(f\"Ingrese el elemento {i + 1}: \")\n",
        "    lista.append(elemento)\n",
        "\n",
        "print(\"\\nLista original:\", lista)\n",
        "print(\"Lista invertida:\", list(reversed(lista)))"
      ],
      "metadata": {
        "colab": {
          "base_uri": "https://localhost:8080/"
        },
        "id": "aPEiYXxejJ_Q",
        "outputId": "7fedd301-6262-4a31-9f9d-115fcd6f962a"
      },
      "execution_count": 10,
      "outputs": [
        {
          "output_type": "stream",
          "name": "stdout",
          "text": [
            "¿Cuántos elementos desea ingresar en la lista? 6\n",
            "Ingrese el elemento 1: 4\n",
            "Ingrese el elemento 2: 2\n",
            "Ingrese el elemento 3: 5\n",
            "Ingrese el elemento 4: 6\n",
            "Ingrese el elemento 5: 7\n",
            "Ingrese el elemento 6: 3\n",
            "\n",
            "Lista original: ['4', '2', '5', '6', '7', '3']\n",
            "Lista invertida: ['3', '7', '6', '5', '2', '4']\n"
          ]
        }
      ]
    },
    {
      "cell_type": "markdown",
      "source": [
        "2. Crear una lista de números y solicitar un número.  Borrar de la lista ese número en todas las posiciones donde se encuentre.  Presentar la lista final"
      ],
      "metadata": {
        "id": "7jPbZ9B3if4m"
      }
    },
    {
      "cell_type": "code",
      "source": [
        "numeros = [1, 2, 3, 4, 5, 2, 6, 2, 7]\n",
        "\n",
        "numeroaeliminar = int(input(\"Introduce el número que deseas eliminar: \"))\n",
        "\n",
        "\n",
        "while numeroaeliminar in numeros:\n",
        "    numeros.remove(numeroaeliminar)\n",
        "\n",
        "\n",
        "print(\"Lista final después de eliminar el número:\", numeros)"
      ],
      "metadata": {
        "colab": {
          "base_uri": "https://localhost:8080/"
        },
        "id": "Z-MszKhXip1a",
        "outputId": "1d40f44e-f18a-4eb7-8c09-a187fa6f0c74"
      },
      "execution_count": 9,
      "outputs": [
        {
          "output_type": "stream",
          "name": "stdout",
          "text": [
            "Introduce el número que deseas eliminar: 4\n",
            "Lista final después de eliminar el número: [1, 2, 3, 5, 2, 6, 2, 7]\n"
          ]
        }
      ]
    },
    {
      "cell_type": "markdown",
      "source": [
        "3. Solicite al usuario dos frases y devuelva una lista con todas las letras que se repiten en la misma posición de ambas listas\n",
        "\n",
        "ejemplo:\n",
        "frase1:  \"holasena\"\n",
        "frase2:  \"todogana\"\n",
        "salida: [\"o\",\"n\", \"a\"]"
      ],
      "metadata": {
        "id": "fgBVki-ohyd6"
      }
    },
    {
      "cell_type": "code",
      "source": [
        "def letras_repetidas(frase1, frase2):\n",
        "\n",
        "  letras_iguales = []\n",
        "  min_longitud = min(len(frase1), len(frase2))\n",
        "  for i in range(min_longitud):\n",
        "    if frase1[i] == frase2[i]:\n",
        "      letras_iguales.append(frase1[i])\n",
        "  return letras_iguales\n",
        "\n",
        "\n",
        "frase1 = input(\"Ingresa la primera frase: \")\n",
        "frase2 = input(\"Ingresa la segunda frase: \")\n",
        "\n",
        "resultado = letras_repetidas(frase1, frase2)\n",
        "print(f\"Letras repetidas en la misma posición: {resultado}\")\n"
      ],
      "metadata": {
        "colab": {
          "base_uri": "https://localhost:8080/"
        },
        "id": "JrpJ4gAUgXX1",
        "outputId": "618a652a-fb48-43b4-bf66-faecdb846949"
      },
      "execution_count": 8,
      "outputs": [
        {
          "output_type": "stream",
          "name": "stdout",
          "text": [
            "Ingresa la primera frase: waza\n",
            "Ingresa la segunda frase: bala\n",
            "Letras repetidas en la misma posición: ['a', 'a']\n"
          ]
        }
      ]
    }
  ]
}