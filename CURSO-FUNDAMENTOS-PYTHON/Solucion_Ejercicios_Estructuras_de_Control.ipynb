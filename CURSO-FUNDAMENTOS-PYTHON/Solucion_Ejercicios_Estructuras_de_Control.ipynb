{
  "cells": [
    {
      "cell_type": "markdown",
      "metadata": {
        "id": "9sLJDPh5vmtk"
      },
      "source": [
        "# EJERCICIOS REFUERZO"
      ]
    },
    {
      "cell_type": "markdown",
      "metadata": {
        "id": "O2KS7CUFvmtn"
      },
      "source": [
        "1. Adivina el Número Secreto\n",
        "Imagina un juego en el que se establece un valor numérico oculto y el usuario debe descubrirlo mediante intentos sucesivos. Después de cada intento, el sistema indicará si el valor propuesto es mayor o menor que el número guardado, de manera que el usuario ajuste su respuesta. El proceso continuará hasta que se alcance el valor correcto, momento en el cual se mostrará un mensaje de felicitación.\n",
        "\n",
        "2. Validación de Contraseña Segura\n",
        "Se requiere crear un mecanismo en el que el usuario introduzca una clave y el sistema verifique que cumpla ciertos requisitos, como una longitud mínima, la inclusión de letras tanto en mayúsculas como en minúsculas y la presencia de números. Si la entrada no satisface estos criterios, el programa deberá solicitar una nueva clave hasta que la condición se cumpla. El resultado final mostrará que la clave proporcionada es segura.\n",
        "\n",
        "3. Control de Acceso a un Evento Exclusivo\n",
        "Desarrolla una solución en la que se pida al usuario ingresar ciertos datos personales, como su edad y si dispone de una invitación especial. Con base en los valores ingresados, el sistema determinará si el usuario puede acceder al evento o no, mostrando un mensaje que indique su admisión o rechazo. La lógica debe considerar las diferentes combinaciones posibles de respuestas para garantizar una correcta evaluación.\n",
        "\n",
        "4. Cálculo del Factorial de un Número\n",
        "El desafío consiste en permitir que el usuario introduzca un número entero y, a partir de ese valor, obtener el producto de todos los números enteros positivos hasta alcanzarlo. La idea es acumular el resultado paso a paso, multiplicando cada valor intermedio, para finalmente mostrar el valor resultante que representa el factorial del número dado. Este ejercicio ayudará a comprender el proceso de acumulación mediante iteraciones.\n",
        "\n",
        "5. Generación de una Tabla de Multiplicar\n",
        "Se solicita diseñar una herramienta que pida al usuario un número entero y genere su tabla de multiplicar hasta un límite preestablecido. Para ello, se debe recorrer una serie de números, calcular el producto correspondiente para cada uno y exhibir los resultados de forma ordenada y legible. La solución debe permitir al usuario visualizar claramente todos los resultados de la tabla generada."
      ]
    },
    {
      "cell_type": "markdown",
      "source": [
        "#1."
      ],
      "metadata": {
        "id": "4dFrD4xSvvYD"
      }
    },
    {
      "cell_type": "code",
      "source": [
        "numerosecreto = 7\n",
        "intentos = 0\n",
        "\n",
        "print(\"Bienvenido a Adivina el numero Secreto\")\n",
        "print(\"Adivinar el numero entre 1 y 10.\")\n",
        "\n",
        "while True:\n",
        "    try:\n",
        "        intento = int(input(\"Ingresa el numero que se te ocurra: \"))\n",
        "        intentos += 1\n",
        "\n",
        "        if intento < numerosecreto:\n",
        "            print(\"El numero secreto es mayor, Intenta de nuevo.\")\n",
        "        elif intento > numerosecreto:\n",
        "            print(\"El numero secreto es menor, Intenta de nuevo.\")\n",
        "        else:\n",
        "            print(\"¡Felicidades Adivinaste el numero!.\")\n",
        "            break\n",
        "    except ValueError:\n",
        "        print(\"Por favor, ingresa un numero válido.\")"
      ],
      "metadata": {
        "id": "GbhbrAV5vvv6",
        "colab": {
          "base_uri": "https://localhost:8080/"
        },
        "outputId": "c5ee5f07-14fa-4579-9320-f8f681751fb7"
      },
      "execution_count": 10,
      "outputs": [
        {
          "output_type": "stream",
          "name": "stdout",
          "text": [
            "Bienvenido a Adivina el numero Secreto\n",
            "Adivinar el numero entre 1 y 10.\n",
            "Ingresa el numero que se te ocurra: 1\n",
            "El numero secreto es mayor, Intenta de nuevo.\n",
            "Ingresa el numero que se te ocurra: 2\n",
            "El numero secreto es mayor, Intenta de nuevo.\n",
            "Ingresa el numero que se te ocurra: 6\n",
            "El numero secreto es mayor, Intenta de nuevo.\n",
            "Ingresa el numero que se te ocurra: 8\n",
            "El numero secreto es menor, Intenta de nuevo.\n",
            "Ingresa el numero que se te ocurra: 10\n",
            "El numero secreto es menor, Intenta de nuevo.\n",
            "Ingresa el numero que se te ocurra: 7\n",
            "¡Felicidades Adivinaste el numero!.\n"
          ]
        }
      ]
    },
    {
      "cell_type": "markdown",
      "source": [
        "#2."
      ],
      "metadata": {
        "id": "0j--fgD-xznz"
      }
    },
    {
      "cell_type": "code",
      "source": [
        "while True:\n",
        "    contraseña = input(\"Ingresa una contraseña segura: \")\n",
        "\n",
        "    if len(contraseña) < 8:\n",
        "        print(\"La contraseña debe tener al menos 8 caracteres.\")\n",
        "    elif not any(c.isdigit() for c in contraseña):\n",
        "        print(\"La contraseña debe contener al menos un número.\")\n",
        "    elif not any(c.isupper() for c in contraseña):\n",
        "        print(\"La contraseña debe contener al menos una letra mayúscula.\")\n",
        "    elif not any(c.islower() for c in contraseña):\n",
        "        print(\"La contraseña debe contener al menos una letra minúscula.\")\n",
        "    else:\n",
        "        print(\"¡Contraseña segura!\")\n",
        "        break"
      ],
      "metadata": {
        "colab": {
          "base_uri": "https://localhost:8080/"
        },
        "id": "vTJm804ox3b0",
        "outputId": "e3356b41-7904-462a-b2f3-853c2caaed75"
      },
      "execution_count": 11,
      "outputs": [
        {
          "output_type": "stream",
          "name": "stdout",
          "text": [
            "Ingresa una contraseña segura: hola\n",
            "La contraseña debe tener al menos 8 caracteres.\n",
            "Ingresa una contraseña segura: holacomoesta\n",
            "La contraseña debe contener al menos un número.\n",
            "Ingresa una contraseña segura: holacomoesta32\n",
            "La contraseña debe contener al menos una letra mayúscula.\n",
            "Ingresa una contraseña segura: Holacomoesta32\n",
            "¡Contraseña segura!\n"
          ]
        }
      ]
    },
    {
      "cell_type": "markdown",
      "source": [
        "#3."
      ],
      "metadata": {
        "id": "7fWkXFZU0q6D"
      }
    },
    {
      "cell_type": "code",
      "source": [
        "while True:\n",
        "    try:\n",
        "        edad = int(input(\"Ingresa tu edad: \"))\n",
        "        if edad < 18:\n",
        "            print(\"Lo siento, debes tener al menos 18 años para entrar al evento.\")\n",
        "            break\n",
        "\n",
        "        invitacion = input(\"¿Tienes una invitación especial? (si/no): \").strip().lower()\n",
        "\n",
        "        if invitacion == \"si\":\n",
        "            print(\"¡Bienvenido al evento exclusivo!\")\n",
        "        else:\n",
        "            print(\"Lo siento, necesitas una invitación especial para ingresar.\")\n",
        "        break\n",
        "    except ValueError:\n",
        "        print(\"Por favor, ingresa una edad válida.\")\n"
      ],
      "metadata": {
        "colab": {
          "base_uri": "https://localhost:8080/"
        },
        "id": "HVso6KAZ0t9i",
        "outputId": "62eeaa8b-34e9-4604-8c17-a96d0d13f7e0"
      },
      "execution_count": 18,
      "outputs": [
        {
          "output_type": "stream",
          "name": "stdout",
          "text": [
            "Ingresa tu edad: 18\n",
            "¿Tienes una invitación especial? (sí/no): si\n",
            "¡Bienvenido al evento exclusivo!\n"
          ]
        }
      ]
    },
    {
      "cell_type": "markdown",
      "source": [
        "#4."
      ],
      "metadata": {
        "id": "x7v_C8dfz95G"
      }
    },
    {
      "cell_type": "code",
      "source": [
        "while True:\n",
        "    try:\n",
        "        numero = int(input(\"Ingresa un numero entero para calcular su factorial: \"))\n",
        "\n",
        "        if numero < 0:\n",
        "            print(\"El factorial no está definido para numeros negativos.\")\n",
        "        else:\n",
        "            factorial = 1\n",
        "            for i in range(1, numero + 1):\n",
        "                factorial *= i\n",
        "            print(f\"El factorial de {numero} es {factorial}.\")\n",
        "            break\n",
        "    except ValueError:\n",
        "        print(\"Por favor, ingresa un número entero válido.\")\n"
      ],
      "metadata": {
        "colab": {
          "base_uri": "https://localhost:8080/"
        },
        "id": "GuEKaOPTzqh7",
        "outputId": "665162f7-e3c6-4534-c980-9ecc6c158497"
      },
      "execution_count": 16,
      "outputs": [
        {
          "output_type": "stream",
          "name": "stdout",
          "text": [
            "Ingresa un numero entero para calcular su factorial: 5\n",
            "El factorial de 5 es 120.\n"
          ]
        }
      ]
    },
    {
      "cell_type": "markdown",
      "source": [
        "#5."
      ],
      "metadata": {
        "id": "6cfv_L7K1XrR"
      }
    },
    {
      "cell_type": "code",
      "source": [
        "while True:\n",
        "    try:\n",
        "        numero = int(input(\"Ingresa un numero entero para generar su tabla de multiplicar: \"))\n",
        "        limite = 10  # Puedes cambiar este valor si deseas otro límite\n",
        "\n",
        "        print(f\"Tabla de multiplicar del {numero}:\")\n",
        "        for i in range(1, limite + 1):\n",
        "            print(f\"{numero} x {i} = {numero * i}\")\n",
        "        break\n",
        "    except ValueError:\n",
        "        print(\"Por favor, ingresa un numero entero valido.\")"
      ],
      "metadata": {
        "colab": {
          "base_uri": "https://localhost:8080/"
        },
        "id": "w5c8wfmy1Z8I",
        "outputId": "4f9bd922-5465-4157-9f71-83251e7bcbc7"
      },
      "execution_count": 21,
      "outputs": [
        {
          "output_type": "stream",
          "name": "stdout",
          "text": [
            "Ingresa un numero entero para generar su tabla de multiplicar: 11\n",
            "Tabla de multiplicar del 11:\n",
            "11 x 1 = 11\n",
            "11 x 2 = 22\n",
            "11 x 3 = 33\n",
            "11 x 4 = 44\n",
            "11 x 5 = 55\n",
            "11 x 6 = 66\n",
            "11 x 7 = 77\n",
            "11 x 8 = 88\n",
            "11 x 9 = 99\n",
            "11 x 10 = 110\n"
          ]
        }
      ]
    }
  ],
  "metadata": {
    "language_info": {
      "name": "python"
    },
    "colab": {
      "provenance": []
    },
    "kernelspec": {
      "name": "python3",
      "display_name": "Python 3"
    }
  },
  "nbformat": 4,
  "nbformat_minor": 0
}