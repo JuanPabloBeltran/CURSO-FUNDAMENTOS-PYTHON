{
  "nbformat": 4,
  "nbformat_minor": 0,
  "metadata": {
    "colab": {
      "provenance": []
    },
    "kernelspec": {
      "name": "python3",
      "display_name": "Python 3"
    },
    "language_info": {
      "name": "python"
    }
  },
  "cells": [
    {
      "cell_type": "markdown",
      "source": [
        "#Ejercicios de evaluación\n"
      ],
      "metadata": {
        "id": "mtPx70Up6PQm"
      }
    },
    {
      "cell_type": "markdown",
      "source": [
        "#1."
      ],
      "metadata": {
        "id": "sks3PVPM6YLe"
      }
    },
    {
      "cell_type": "code",
      "execution_count": 4,
      "metadata": {
        "colab": {
          "base_uri": "https://localhost:8080/"
        },
        "id": "-Ur804GT2cVZ",
        "outputId": "6b3035a3-2762-4349-ceee-563928a341af"
      },
      "outputs": [
        {
          "output_type": "stream",
          "name": "stdout",
          "text": [
            "1 NO es divisible por 2\n",
            "2 es divisible por 2\n",
            "3 NO es divisible por 2\n",
            "4 es divisible por 2\n",
            "5 NO es divisible por 2\n",
            "6 es divisible por 2\n",
            "7 NO es divisible por 2\n",
            "8 es divisible por 2\n",
            "9 NO es divisible por 2\n",
            "10 es divisible por 2\n",
            "11 NO es divisible por 2\n",
            "12 es divisible por 2\n",
            "13 NO es divisible por 2\n",
            "14 es divisible por 2\n",
            "15 NO es divisible por 2\n",
            "16 es divisible por 2\n",
            "17 NO es divisible por 2\n",
            "18 es divisible por 2\n",
            "19 NO es divisible por 2\n",
            "20 es divisible por 2\n",
            "Suma de los numeros no divisibles por 2: 100\n"
          ]
        }
      ],
      "source": [
        "# 1. Procesamiento de Números del 1 al 20\n",
        "numeros = list(range(1, 21))\n",
        "suma_no_divisibles = 0\n",
        "\n",
        "for numero in numeros:\n",
        "    if numero % 2 == 0:\n",
        "        print(f\"{numero} es divisible por 2\")\n",
        "    else:\n",
        "        print(f\"{numero} NO es divisible por 2\")\n",
        "        suma_no_divisibles += numero\n",
        "\n",
        "print(\"Suma de los numeros no divisibles por 2:\", suma_no_divisibles)"
      ]
    },
    {
      "cell_type": "markdown",
      "source": [
        "#2."
      ],
      "metadata": {
        "id": "-5Jviw8Q9VYc"
      }
    },
    {
      "cell_type": "code",
      "source": [
        "actividades = [\"leer\", \"ejercicio\", \"estudiar\", \"cocinar\", \"limpiar\"]\n",
        "print(\"Actividades pendientes:\", actividades)\n",
        "\n",
        "respuestas = []\n",
        "\n",
        "\n",
        "for i in range(len(actividades)):\n",
        "    respuesta = input(f\"¿Usted realizó la actividad '{actividades[i]}' (si/no)?: \")\n",
        "    respuestas.append(respuesta)\n",
        "\n",
        "\n",
        "for i in range(len(actividades)):\n",
        "    if respuestas[i] == \"si\":\n",
        "        print(f\"La actividad '{actividades[i]}' se realizó.\")\n",
        "    else:\n",
        "        print(f\"La actividad '{actividades[i]}' no se realizó.\")\n",
        "\n"
      ],
      "metadata": {
        "colab": {
          "base_uri": "https://localhost:8080/"
        },
        "id": "V-5snWzx9Xb5",
        "outputId": "2d1b3f9b-e6e1-455c-ac1e-1330eea15eba"
      },
      "execution_count": 9,
      "outputs": [
        {
          "output_type": "stream",
          "name": "stdout",
          "text": [
            "Actividades pendientes: ['leer', 'ejercicio', 'estudiar', 'cocinar', 'limpiar']\n",
            "¿Usted realizó la actividad 'leer' (si/no)?: si\n",
            "¿Usted realizó la actividad 'ejercicio' (si/no)?: no\n",
            "¿Usted realizó la actividad 'estudiar' (si/no)?: si\n",
            "¿Usted realizó la actividad 'cocinar' (si/no)?: si\n",
            "¿Usted realizó la actividad 'limpiar' (si/no)?: si\n",
            "La actividad 'leer' se realizó.\n",
            "La actividad 'ejercicio' no se realizó.\n",
            "La actividad 'estudiar' se realizó.\n",
            "La actividad 'cocinar' se realizó.\n",
            "La actividad 'limpiar' se realizó.\n"
          ]
        }
      ]
    },
    {
      "cell_type": "markdown",
      "source": [
        "#3."
      ],
      "metadata": {
        "id": "ZXceZhaz-ETS"
      }
    },
    {
      "cell_type": "code",
      "source": [
        "entrada = input(\"Ingrese el texto: \")\n",
        "resultado = \"\"\n",
        "\n",
        "for caracter in entrada:\n",
        "    if caracter.isalpha():\n",
        "        resultado += caracter\n",
        "\n",
        "print(\"Texto filtrado:\", resultado)"
      ],
      "metadata": {
        "colab": {
          "base_uri": "https://localhost:8080/"
        },
        "id": "x-tMC-Ms-GsB",
        "outputId": "79d676f2-265c-4007-f913-2898d3361803"
      },
      "execution_count": 11,
      "outputs": [
        {
          "output_type": "stream",
          "name": "stdout",
          "text": [
            "Ingrese el texto: hace 18000 años 0uesos\n",
            "Texto filtrado: haceañosuesos\n"
          ]
        }
      ]
    },
    {
      "cell_type": "markdown",
      "source": [
        "#4."
      ],
      "metadata": {
        "id": "4WM-x3t7-Z7M"
      }
    },
    {
      "cell_type": "code",
      "source": [
        "nombres = [\"Ana\", \"Luis\", \"Carlos\", \"Marta\"]\n",
        "calificaciones = [85, 90, 78, 92]\n",
        "\n",
        "print(\"Lista de alumnos y calificaciones:\")\n",
        "for i in range(len(nombres)):\n",
        "    print(f\"{i + 1}. {nombres[i]} - {calificaciones[i]}\")\n",
        "\n",
        "indice = int(input(\"Ingrese el número del alumno para ver su calificación: \")) - 1\n",
        "if 0 <= indice < len(nombres):\n",
        "    print(f\"{nombres[indice]} tiene una calificación de {calificaciones[indice]}\")\n",
        "else:\n",
        "    print(\"Índice fuera de rango\")\n"
      ],
      "metadata": {
        "colab": {
          "base_uri": "https://localhost:8080/"
        },
        "id": "tJQq6O5z-d23",
        "outputId": "0c962ee6-c8e5-4bf9-dfae-a136804d9165"
      },
      "execution_count": 14,
      "outputs": [
        {
          "output_type": "stream",
          "name": "stdout",
          "text": [
            "Lista de alumnos y calificaciones:\n",
            "1. Ana - 85\n",
            "2. Luis - 90\n",
            "3. Carlos - 78\n",
            "4. Marta - 92\n",
            "Ingrese el número del alumno para ver su calificación: 4\n",
            "Marta tiene una calificación de 92\n"
          ]
        }
      ]
    },
    {
      "cell_type": "markdown",
      "source": [
        "#5."
      ],
      "metadata": {
        "id": "pbVXaCiD-hyY"
      }
    },
    {
      "cell_type": "code",
      "source": [
        "valores = [10, 20, 30, 40, 50]\n",
        "print(\"Valores iniciales:\", valores)\n",
        "\n",
        "suma = 0\n",
        "for i in range(len(valores)):\n",
        "    suma += valores[i]\n",
        "print(\"Suma de valores:\", suma)\n",
        "\n",
        "eliminar = int(input(\"Ingrese el índice del valor a eliminar (1-5): \")) - 1\n",
        "if 0 <= eliminar < len(valores):\n",
        "    del valores[eliminar]\n",
        "    print(\"Valores después de la eliminación:\", valores)\n",
        "else:\n",
        "    print(\"Índice fuera de rango\")"
      ],
      "metadata": {
        "colab": {
          "base_uri": "https://localhost:8080/"
        },
        "id": "zL-cyDJy-kSN",
        "outputId": "a17ef4bb-c454-4dea-b718-83e5078c3530"
      },
      "execution_count": 15,
      "outputs": [
        {
          "output_type": "stream",
          "name": "stdout",
          "text": [
            "Valores iniciales: [10, 20, 30, 40, 50]\n",
            "Suma de valores: 150\n",
            "Ingrese el índice del valor a eliminar (1-5): 2\n",
            "Valores después de la eliminación: [10, 30, 40, 50]\n"
          ]
        }
      ]
    }
  ]
}