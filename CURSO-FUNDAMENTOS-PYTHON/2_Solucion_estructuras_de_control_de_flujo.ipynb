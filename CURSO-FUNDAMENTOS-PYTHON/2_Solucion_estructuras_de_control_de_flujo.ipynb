{
  "cells": [
    {
      "cell_type": "markdown",
      "metadata": {
        "id": "CjzFhFUlDKTP"
      },
      "source": [
        "# Solución ejercicios condicionales"
      ]
    },
    {
      "cell_type": "markdown",
      "metadata": {
        "id": "B5LLdP65DR_a"
      },
      "source": [
        "1. En un sistema de automatización industrial, un motor puede estar encendido o apagado. Si la temperatura de la máquina supera los 80 grados, el motor debe apagarse automáticamente. Escribir un programa que controle el estado del motor y lo apague si la temperatura supera los 80 grados."
      ]
    },
    {
      "cell_type": "code",
      "execution_count": null,
      "metadata": {
        "colab": {
          "base_uri": "https://localhost:8080/"
        },
        "id": "oyMryWUFDWq6",
        "outputId": "596599df-aafc-4663-8d9c-8c108992f47b"
      },
      "outputs": [
        {
          "name": "stdout",
          "output_type": "stream",
          "text": [
            "ingrse la temperatura del motor: 90\n",
            "el motor exede la temperatura, por ende será apagado\n",
            "fin del programa\n"
          ]
        }
      ],
      "source": [
        "temperatura = int(input(\"ingrse la temperatura del motor: \"))\n",
        "if temperatura >=80:\n",
        "    print(\"el motor exede la temperatura, por ende será apagado\")\n",
        "else:\n",
        "    print(\"el motor no exede la temperatura, por ende seguirá encendido\")\n",
        "print(\"fin del programa\")"
      ]
    },
    {
      "cell_type": "markdown",
      "metadata": {
        "id": "Kq6_RO8mDiv1"
      },
      "source": [
        "2.  Una universidad ofrece un descuento a los estudiantes que depende del estrato y la edad. Si el estrato es 1 y su edad es menor a 18 el descuento será del 20% sobre el valor de la matrícula. Si el estrato es 1 y el alumno tiene 18 o mas años, el descuento será del 15%. Si el estrato es 2 y la edad es menor a 18 años, el descuento será del 10% y si el estrato es 2 y la edad es 18 años o mas, el descuento será del 5%.\n",
        "\n",
        "Escribir el precio que deberá pagar un estudiante por su matrícula y el valor del descuento."
      ]
    },
    {
      "cell_type": "code",
      "execution_count": null,
      "metadata": {
        "colab": {
          "base_uri": "https://localhost:8080/"
        },
        "id": "6uI_nF7YDpwQ",
        "outputId": "f724df46-77a6-4273-bebf-441df0a5a9c3"
      },
      "outputs": [
        {
          "name": "stdout",
          "output_type": "stream",
          "text": [
            "Bienvenido a la inscripción para la universidad\n",
            "El valor de la matricula es de $25000000\n",
            "Se le solicitará unos datos para observar de cuanto será su descuento\n",
            "ingrese su edad: 20\n",
            "ingrese su estrato: 2\n",
            "el descuento es del 5%\n",
            "el valor a pagar es de:  23750000.0\n",
            "fin del programa\n"
          ]
        }
      ],
      "source": [
        "print(\"Bienvenido a la inscripción para la universidad\")\n",
        "print(\"El valor de la matricula es de $25000000\")\n",
        "print(\"Se le solicitará unos datos para observar de cuanto será su descuento\")\n",
        "precio = 25000000\n",
        "edad = int(input(\"ingrese su edad: \"))\n",
        "estrato = int(input(\"ingrese su estrato: \"))\n",
        "if estrato == 1 and edad < 18:\n",
        "  print(\"el descuento que se le aplicará es del 20%\")\n",
        "  print(\"el valor a pagar es de: \", precio - (precio * 0.20))\n",
        "elif estrato == 1 and edad >= 18:\n",
        "  print(\"el descuento que se le aplicará es del 15%\")\n",
        "  print(\"el valor a pagar es de: \", precio - (precio * 0.15))\n",
        "elif estrato == 2 and edad < 18:\n",
        "  print(\"el descuento es del 10%\")\n",
        "  print(\"el valor a pagar es de: \", precio - (precio * 0.10))\n",
        "elif estrato == 2 and edad >= 18:\n",
        "  print(\"el descuento es del 5%\")\n",
        "  print(\"el valor a pagar es de: \", precio - (precio * 0.05))\n",
        "elif edad >= 125:\n",
        "  print(\"edad invalida\")\n",
        "else:\n",
        "  print(\"no aplica descuento\")\n",
        "print(\"fin del programa\")"
      ]
    },
    {
      "cell_type": "markdown",
      "metadata": {
        "id": "VrKaxisgUZ1r"
      },
      "source": [
        "3. En un sistema de control de calidad, se deben inspeccionar las piezas de un producto para determinar si cumplen con los estándares de calidad. Si la pieza es defectuosa, se debe marcar como rechazada y enviar una alerta al operador. Si la pieza cumple con los estándares de calidad, se debe marcar como aprobada y continuar con la producción.  \n",
        "\n",
        "Realice un programa que lea una entrada binaria en la que los 1s significan estándares de calidad cumplidos y los 0s significan estándares de calidad No cumplidos.  El programa debe rechazar la pieza ante cualquier estándar no cumplido."
      ]
    },
    {
      "cell_type": "code",
      "execution_count": null,
      "metadata": {
        "colab": {
          "base_uri": "https://localhost:8080/"
        },
        "id": "jbEHVNRDUike",
        "outputId": "cdc4096a-5dba-4836-ad9b-dd53be225501"
      },
      "outputs": [
        {
          "name": "stdout",
          "output_type": "stream",
          "text": [
            "ingrese el número de piezas: 10\n",
            "ingrese los estándares de calidad: 7\n",
            "error en la pieza\n",
            "ingrese los estándares de calidad: 2\n",
            "error en la pieza\n",
            "ingrese los estándares de calidad: 1\n",
            "0\n",
            "Pieza aceptada\n"
          ]
        }
      ],
      "source": [
        "numdepiezas = int(input(\"ingrese el número de piezas: \"))\n",
        "for p in range (numdepiezas):\n",
        "\n",
        "  pieza = input(\"ingrese los estándares de calidad: \")\n",
        "  if len (pieza ) == pieza.count(\"0\") + pieza.count(\"1\"):\n",
        "    defectuosos = pieza.count(\"0\")\n",
        "    print(defectuosos)\n",
        "\n",
        "    if defectuosos > 0:\n",
        "      print (\"La pieza debe ser rechazada\")\n",
        "    else:\n",
        "      print (\"Pieza aceptada\")\n",
        "      break\n",
        "  else:\n",
        "    print (\"error en la pieza\")"
      ]
    },
    {
      "cell_type": "markdown",
      "metadata": {
        "id": "wPgoJa_uUbMW"
      },
      "source": [
        "# Solución Ejercicios Cíclicos\n"
      ]
    },
    {
      "cell_type": "markdown",
      "metadata": {
        "id": "NcO4ApCCUwqY"
      },
      "source": [
        "1. Leer un número y presentar la tabla de multiplicar de ese número entre 1 y 10. Utilizar el siguiente formato de ejemplo:\n",
        "```\n",
        "1 x 1 = 1\n",
        "1 x 2 = 2\n",
        "1 x 3 = 3\n",
        "1 x 4 = 4\n",
        "1 x 5 = 5\n",
        "```"
      ]
    },
    {
      "cell_type": "code",
      "execution_count": 2,
      "metadata": {
        "colab": {
          "base_uri": "https://localhost:8080/"
        },
        "id": "EZWgUZxpU5sS",
        "outputId": "d5c179c3-3a3c-4450-c566-4f9e379f4d0f"
      },
      "outputs": [
        {
          "name": "stdout",
          "output_type": "stream",
          "text": [
            "ingrese un número: 30\n",
            "30 x 1 = 30\n",
            "30 x 2 = 60\n",
            "30 x 3 = 90\n",
            "30 x 4 = 120\n",
            "30 x 5 = 150\n",
            "30 x 6 = 180\n",
            "30 x 7 = 210\n",
            "30 x 8 = 240\n",
            "30 x 9 = 270\n",
            "30 x 10 = 300\n"
          ]
        }
      ],
      "source": [
        "numero = int(input(\"ingrese un número: \"))\n",
        "for i in range(1,11):\n",
        "  print(numero, \"x\", i, \"=\", numero * i)\n"
      ]
    },
    {
      "cell_type": "markdown",
      "metadata": {
        "id": "ydrhak5PWBjT"
      },
      "source": [
        "2. En un partido de fútbol, se ofrece un descuento a los aficionados que depende del estrato y la edad.  Si el estrato es 1 y su edad es menor a 18 el descuento será del 20% sobre el valor de la boleta.   Si el estrato es 1 y el alumno tiene 18 o mas años, el descuento será del 15%.  Si  el estrato es 2 y la edad es menor a 18 años, el descuento será del 10% y si el estrato es 2 y la edad es 18 años o más, el descuento será del 5%.  Determinar el total del dinero recaudado y descontado por las últimas N personas que ingresan al partido."
      ]
    },
    {
      "cell_type": "code",
      "execution_count": 4,
      "metadata": {
        "colab": {
          "base_uri": "https://localhost:8080/"
        },
        "id": "T08trEM5WLg0",
        "outputId": "414be220-0b5e-429e-a0de-fc41b612d447"
      },
      "outputs": [
        {
          "name": "stdout",
          "output_type": "stream",
          "text": [
            "Ingrese la cantidad de personas que ingresaron al partido: 5\n",
            "Ingrese el precio de la boleta: 100\n",
            "\n",
            "Persona 1:\n",
            "Ingrese el estrato (1 o 2): 1\n",
            "Ingrese la edad: 15\n",
            "\n",
            "Persona 2:\n",
            "Ingrese el estrato (1 o 2): 2\n",
            "Ingrese la edad: 60\n",
            "\n",
            "Persona 3:\n",
            "Ingrese el estrato (1 o 2): 1\n",
            "Ingrese la edad: 18\n",
            "\n",
            "Persona 4:\n",
            "Ingrese el estrato (1 o 2): 2\n",
            "Ingrese la edad: 13\n",
            "\n",
            "Persona 5:\n",
            "Ingrese el estrato (1 o 2): 1\n",
            "Ingrese la edad: 55\n",
            "\n",
            "Resultados finales:\n",
            "Total recaudado: $435.00\n",
            "Total descontado: $65.00\n"
          ]
        }
      ],
      "source": [
        "def calcular_descuento(estrato, edad, precio_boleta):\n",
        "    if estrato == 1:\n",
        "        if edad < 18:\n",
        "            return precio_boleta * 0.20\n",
        "        else:\n",
        "            return precio_boleta * 0.15\n",
        "    elif estrato == 2:\n",
        "        if edad < 18:\n",
        "            return precio_boleta * 0.10\n",
        "        else:\n",
        "            return precio_boleta * 0.05\n",
        "    return 0\n",
        "\n",
        "\n",
        "def main():\n",
        "    N = int(input(\"Ingrese la cantidad de personas que ingresaron al partido: \"))\n",
        "    precio_boleta = float(input(\"Ingrese el precio de la boleta: \"))\n",
        "\n",
        "    total_recaudado = 0\n",
        "    total_descuento = 0\n",
        "\n",
        "    for i in range(N):\n",
        "        print(f\"\\nPersona {i+1}:\")\n",
        "        estrato = int(input(\"Ingrese el estrato (1 o 2): \"))\n",
        "        edad = int(input(\"Ingrese la edad: \"))\n",
        "\n",
        "        descuento = calcular_descuento(estrato, edad, precio_boleta)\n",
        "        total_descuento += descuento\n",
        "        total_recaudado += (precio_boleta - descuento)\n",
        "\n",
        "    print(\"\\nResultados finales:\")\n",
        "    print(f\"Total recaudado: ${total_recaudado:.2f}\")\n",
        "    print(f\"Total descontado: ${total_descuento:.2f}\")\n",
        "\n",
        "if __name__ == \"__main__\":\n",
        "    main()\n"
      ]
    },
    {
      "cell_type": "markdown",
      "metadata": {
        "id": "ivYF_y4jXMnl"
      },
      "source": [
        "3.  Leer un password de ingreso a un programa y mostrar el mensaje de bienvenida si es correcto. Mientras no lo sea, debe mostrar el mensaje de Password incorrecto. El programa debe terminar automáticamente al quinto intento fallido."
      ]
    },
    {
      "cell_type": "code",
      "execution_count": 7,
      "metadata": {
        "colab": {
          "base_uri": "https://localhost:8080/"
        },
        "id": "M4ljPsrdXRMP",
        "outputId": "0fa8333f-ba0c-4b12-c709-7144477cc657"
      },
      "outputs": [
        {
          "name": "stdout",
          "output_type": "stream",
          "text": [
            "Ingrese su contraseña: si\n",
            "Password incorrecto.\n",
            "Ingrese su contraseña: hola\n",
            "Password incorrecto.\n",
            "Ingrese su contraseña: :(\n",
            "Password incorrecto.\n",
            "Ingrese su contraseña: su contraseña\n",
            "Password incorrecto.\n",
            "Ingrese su contraseña: salmen\n",
            "Password incorrecto.\n",
            "Demasiados intentos fallidos. Acceso denegado.\n"
          ]
        }
      ],
      "source": [
        "def verificar_password():\n",
        "    password_correcto = \"salmon123\"\n",
        "    intentos = 0\n",
        "    max_intentos = 5\n",
        "\n",
        "    while intentos < max_intentos:\n",
        "        password_ingresado = input(\"Ingrese su contraseña: \")\n",
        "\n",
        "        if password_ingresado == password_correcto:\n",
        "            print(\"Bienvenido al programa.\")\n",
        "            return\n",
        "        else:\n",
        "            intentos += 1\n",
        "            print(\"Password incorrecto.\")\n",
        "\n",
        "    print(\"Demasiados intentos fallidos. Acceso denegado.\")\n",
        "\n",
        "if __name__ == \"__main__\":\n",
        "    verificar_password()\n"
      ]
    }
  ],
  "metadata": {
    "colab": {
      "provenance": []
    },
    "kernelspec": {
      "display_name": "Python 3",
      "name": "python3"
    },
    "language_info": {
      "name": "python"
    }
  },
  "nbformat": 4,
  "nbformat_minor": 0
}
