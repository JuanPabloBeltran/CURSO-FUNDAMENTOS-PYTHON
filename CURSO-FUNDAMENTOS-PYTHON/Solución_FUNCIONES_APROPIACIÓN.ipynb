{
  "cells": [
    {
      "cell_type": "markdown",
      "metadata": {
        "id": "kRtjxIiflNj9"
      },
      "source": [
        "#FUNCIONES"
      ]
    },
    {
      "cell_type": "markdown",
      "metadata": {
        "id": "ibsQ0e2elQ2j"
      },
      "source": [
        "#APROPIACION"
      ]
    },
    {
      "cell_type": "markdown",
      "metadata": {
        "id": "4FfhqGTslWZy"
      },
      "source": [
        "Realiza una función que tome una lista de números enteros y devuelva dos listas ordenadas. La primera con los números pares y la segunda con los números impares"
      ]
    },
    {
      "cell_type": "code",
      "execution_count": 2,
      "metadata": {
        "colab": {
          "base_uri": "https://localhost:8080/"
        },
        "id": "GWmQX293laEi",
        "outputId": "cf9a90dc-0765-4b21-ea7c-4bda0fb5b6c6"
      },
      "outputs": [
        {
          "name": "stdout",
          "output_type": "stream",
          "text": [
            "Números pares ordenados: [2, 4, 6, 8, 10]\n",
            "Números impares ordenados: [1, 3, 5, 7, 9]\n"
          ]
        }
      ],
      "source": [
        "numeros = [7, 2, 9, 4, 5, 10, 1, 8, 3, 6]\n",
        "\n",
        "pares = []\n",
        "impares = []\n",
        "\n",
        "for numero in numeros:\n",
        "    if numero % 2 == 0:\n",
        "        pares += [numero]\n",
        "    else:\n",
        "        impares += [numero]\n",
        "\n",
        "ordenados_pares = []\n",
        "usados_pares = []\n",
        "\n",
        "for _ in pares:\n",
        "    minimo = None\n",
        "    for n in pares:\n",
        "        usado = False\n",
        "        for u in usados_pares:\n",
        "            if n == u:\n",
        "                usado = True\n",
        "        if not usado:\n",
        "            if minimo is None or n < minimo:\n",
        "                minimo = n\n",
        "    ordenados_pares += [minimo]\n",
        "    usados_pares += [minimo]\n",
        "\n",
        "ordenados_impares = []\n",
        "usados_impares = []\n",
        "\n",
        "for _ in impares:\n",
        "    minimo = None\n",
        "    for n in impares:\n",
        "        usado = False\n",
        "        for u in usados_impares:\n",
        "            if n == u:\n",
        "                usado = True\n",
        "        if not usado:\n",
        "            if minimo is None or n < minimo:\n",
        "                minimo = n\n",
        "    ordenados_impares += [minimo]\n",
        "    usados_impares += [minimo]\n",
        "\n",
        "print(\"Números pares ordenados:\", ordenados_pares)\n",
        "print(\"Números impares ordenados:\", ordenados_impares)\n"
      ]
    },
    {
      "cell_type": "markdown",
      "metadata": {
        "id": "0l03oMEDmK_J"
      },
      "source": [
        "Realiza una función que reciba una palabra y devuelva un diccionario donde las claves sean las diferentes letras que se encuentran en la palabra y los valores sean el número de veces que se repite cada letra en la palabra\n",
        "palabra = \"colombia\"\n",
        "{\"c\":1, \"o\":2, \"l\":1, \"m\":1, \"b\":1, \"i\":1, \"a\":1}"
      ]
    },
    {
      "cell_type": "code",
      "execution_count": 4,
      "metadata": {
        "colab": {
          "base_uri": "https://localhost:8080/"
        },
        "id": "GN0zktuvmNLi",
        "outputId": "48d55c46-3045-4dc1-c430-0cebc474265e"
      },
      "outputs": [
        {
          "name": "stdout",
          "output_type": "stream",
          "text": [
            "{'c': 1, 'o': 3, 'l': 1, 's': 1}\n"
          ]
        }
      ],
      "source": [
        "palabra = \"coloso\"\n",
        "diccionario = {}\n",
        "\n",
        "for letra in palabra:\n",
        "    encontrada = False\n",
        "    for clave in diccionario:\n",
        "        if clave == letra:\n",
        "            diccionario[clave] = diccionario[clave] + 1\n",
        "            encontrada = True\n",
        "    if not encontrada:\n",
        "        diccionario[letra] = 1\n",
        "\n",
        "print(diccionario)\n"
      ]
    },
    {
      "cell_type": "markdown",
      "metadata": {
        "id": "4isKED9mmXaJ"
      },
      "source": [
        "Realiza una función que reciba un número y devuelva una cadena con los nombres de los números recibidos, separando cada número con un guión medio. Por ejemplo, si el número recibido es 134, la función devolverá la cadena \"uno - tres - cuatro\""
      ]
    },
    {
      "cell_type": "code",
      "execution_count": 6,
      "metadata": {
        "colab": {
          "base_uri": "https://localhost:8080/"
        },
        "id": "k0TdlJb5msZ8",
        "outputId": "687775fe-c3b6-486b-f80a-0411609c7e9f"
      },
      "outputs": [
        {
          "name": "stdout",
          "output_type": "stream",
          "text": [
            "Ingresa un número: 1098\n",
            "uno - cero - nueve - ocho\n"
          ]
        }
      ],
      "source": [
        "numero = input(\"Ingresa un número: \")\n",
        "resultado = \"\"\n",
        "\n",
        "for caracter in numero:\n",
        "    if caracter == \"0\":\n",
        "        palabra = \"cero\"\n",
        "    elif caracter == \"1\":\n",
        "        palabra = \"uno\"\n",
        "    elif caracter == \"2\":\n",
        "        palabra = \"dos\"\n",
        "    elif caracter == \"3\":\n",
        "        palabra = \"tres\"\n",
        "    elif caracter == \"4\":\n",
        "        palabra = \"cuatro\"\n",
        "    elif caracter == \"5\":\n",
        "        palabra = \"cinco\"\n",
        "    elif caracter == \"6\":\n",
        "        palabra = \"seis\"\n",
        "    elif caracter == \"7\":\n",
        "        palabra = \"siete\"\n",
        "    elif caracter == \"8\":\n",
        "        palabra = \"ocho\"\n",
        "    elif caracter == \"9\":\n",
        "        palabra = \"nueve\"\n",
        "    else:\n",
        "        palabra = \"\"\n",
        "\n",
        "    if resultado == \"\":\n",
        "        resultado = palabra\n",
        "    else:\n",
        "        resultado = resultado + \" - \" + palabra\n",
        "\n",
        "print(resultado)\n"
      ]
    }
  ],
  "metadata": {
    "colab": {
      "provenance": []
    },
    "kernelspec": {
      "display_name": "Python 3",
      "name": "python3"
    },
    "language_info": {
      "name": "python"
    }
  },
  "nbformat": 4,
  "nbformat_minor": 0
}
