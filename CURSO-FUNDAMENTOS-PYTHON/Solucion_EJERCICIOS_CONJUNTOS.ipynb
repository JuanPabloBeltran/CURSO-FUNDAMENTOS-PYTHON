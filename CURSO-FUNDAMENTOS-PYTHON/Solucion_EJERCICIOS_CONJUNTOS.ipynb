{
  "cells": [
    {
      "cell_type": "markdown",
      "metadata": {
        "id": "ajn3NwP1kJwW"
      },
      "source": [
        "# EJERCICIOS CONJUNTOS"
      ]
    },
    {
      "cell_type": "markdown",
      "metadata": {
        "id": "MUZiF8PjkF22"
      },
      "source": [
        "#1."
      ]
    },
    {
      "cell_type": "markdown",
      "metadata": {
        "id": "CRTOa6uQkJEf"
      },
      "source": [
        "Comparación y Análisis de Listas de Estudiantes Imagina que se tiene un conjunto con los números de identificación de los estudiantes de dos cursos. Se debe:\n",
        "\n",
        "Determinar si ambos conjuntos tienen estudiantes en común.\n",
        "\n",
        "Verificar si el conjunto de un curso está completamente contenido en el conjunto del otro.\n",
        "\n",
        "Mostrar el conjunto de estudiantes que aparece en ambos cursos (común) y también aquellos que están solo en uno de ellos (diferencia y diferencia simétrica). Ejemplo de salida esperado:"
      ]
    },
    {
      "cell_type": "code",
      "execution_count": 2,
      "metadata": {
        "colab": {
          "base_uri": "https://localhost:8080/"
        },
        "id": "Nrhq9IdakTQq",
        "outputId": "fcbf60f4-9d89-49d3-94d1-aad6c0fc3be6"
      },
      "outputs": [
        {
          "name": "stdout",
          "output_type": "stream",
          "text": [
            "Los cursos tienen estudiantes en común: True\n",
            "El curso A es subconjunto del curso B: False\n",
            "Estudiantes comunes: {305, 203, 101}\n",
            "Estudiantes únicos entre ambos cursos: {304, 406, 102}\n"
          ]
        }
      ],
      "source": [
        "curso_A = {101, 203, 305, 102}\n",
        "curso_B = {101, 203, 305, 304, 406}\n",
        "\n",
        "print(f\"Los cursos tienen estudiantes en común: {bool(curso_A & curso_B)}\")\n",
        "print(f\"El curso A es subconjunto del curso B: {curso_A <= curso_B}\")\n",
        "print(f\"Estudiantes comunes: {curso_A & curso_B}\")\n",
        "print(f\"Estudiantes únicos entre ambos cursos: {curso_A ^ curso_B}\")\n",
        "\n"
      ]
    },
    {
      "cell_type": "markdown",
      "metadata": {
        "id": "_w7Mvvy3kp-j"
      },
      "source": [
        "#2."
      ]
    },
    {
      "cell_type": "markdown",
      "metadata": {
        "id": "_RjMdM0UkrzE"
      },
      "source": [
        "Gestión de Inventarios en Almacenes Se dispone de dos conjuntos que representan los códigos de productos en dos almacenes diferentes. El desafío consiste en:\n",
        "\n",
        "Mostrar los productos que se encuentran en ambos almacenes.\n",
        "\n",
        "Determinar cuáles productos están únicamente en uno de ellos.\n",
        "\n",
        "Unificar los productos disponibles en ambos almacenes en un solo conjunto.\n",
        "\n",
        "Finalmente, eliminar (descartar) un producto que se ha dado de baja de uno de los almacenes."
      ]
    },
    {
      "cell_type": "code",
      "execution_count": 3,
      "metadata": {
        "colab": {
          "base_uri": "https://localhost:8080/"
        },
        "id": "9jWUQtablK93",
        "outputId": "57c18748-06c5-4d63-c108-7e32e95d90fa"
      },
      "outputs": [
        {
          "name": "stdout",
          "output_type": "stream",
          "text": [
            "Productos en común: {2002, 3003, 4004}\n",
            "Productos exclusivos del Almacén 1: {1001, 5005}\n",
            "Productos exclusivos del Almacén 2: {6006}\n",
            "Inventario unificado: {4004, 1001, 5005, 2002, 6006, 3003}\n",
            "Inventario del Almacén 1 tras descartar el producto 5005: {2002, 4004, 1001, 3003}\n"
          ]
        }
      ],
      "source": [
        "almacen_1 = {1001, 2002, 3003, 4004, 5005}\n",
        "almacen_2 = {2002, 3003, 4004, 6006}\n",
        "\n",
        "print(f\"Productos en común: {almacen_1 & almacen_2}\")\n",
        "print(f\"Productos exclusivos del Almacén 1: {almacen_1 - almacen_2}\")\n",
        "print(f\"Productos exclusivos del Almacén 2: {almacen_2 - almacen_1}\")\n",
        "print(f\"Inventario unificado: {almacen_1 | almacen_2}\")\n",
        "\n",
        "almacen_1.discard(5005)\n",
        "print(f\"Inventario del Almacén 1 tras descartar el producto 5005: {almacen_1}\")\n"
      ]
    },
    {
      "cell_type": "markdown",
      "metadata": {
        "id": "pKA1pIaXlZ7q"
      },
      "source": [
        "#3."
      ]
    },
    {
      "cell_type": "markdown",
      "metadata": {
        "id": "U9cEp_nJlbJk"
      },
      "source": [
        "Análisis de Preferencias de Hobbies Se tiene un conjunto con los hobbies de un grupo de amigos y otro conjunto con los hobbies de otro grupo. Se solicita:\n",
        "\n",
        "Identificar qué hobbies comparten ambos grupos.\n",
        "\n",
        "Conocer cuáles son exclusivos de cada grupo (usando la diferencia y la diferencia simétrica).\n",
        "\n",
        "Comprobar si los grupos no tienen ningún hobby en común (verificar disjoint).\n",
        "\n",
        "Además, eliminar un hobby específico de uno de los conjuntos para actualizar las preferencias. Ejemplo de salida esperado:\n",
        "\n",
        "Hobbies comunes: {'leer', 'correr'} Hobbies únicos en el Grupo A: {'pintar'} Hobbies únicos en el Grupo B: {'cocinar', 'viajar'} ¿Los grupos no tienen hobbies en común?: False Grupo A actualizado tras eliminar 'pintar': {'leer', 'correr'}"
      ]
    },
    {
      "cell_type": "code",
      "execution_count": 4,
      "metadata": {
        "colab": {
          "base_uri": "https://localhost:8080/"
        },
        "id": "Y1psmDXUleTa",
        "outputId": "6e6de359-6527-4ba6-d668-669f98b127f4"
      },
      "outputs": [
        {
          "name": "stdout",
          "output_type": "stream",
          "text": [
            "Hobbies comunes: {'correr', 'leer'}\n",
            "Hobbies únicos en el Grupo A: {'pintar'}\n",
            "Hobbies únicos en el Grupo B: {'cocinar', 'viajar'}\n",
            "¿Los grupos no tienen hobbies en común?: False\n",
            "Grupo A actualizado tras eliminar 'pintar': {'leer', 'correr'}\n"
          ]
        }
      ],
      "source": [
        "grupo_A = {\"leer\", \"correr\", \"pintar\"}\n",
        "grupo_B = {\"leer\", \"correr\", \"cocinar\", \"viajar\"}\n",
        "\n",
        "print(f\"Hobbies comunes: {grupo_A & grupo_B}\")\n",
        "print(f\"Hobbies únicos en el Grupo A: {grupo_A - grupo_B}\")\n",
        "print(f\"Hobbies únicos en el Grupo B: {grupo_B - grupo_A}\")\n",
        "print(f\"¿Los grupos no tienen hobbies en común?: {grupo_A.isdisjoint(grupo_B)}\")\n",
        "\n",
        "grupo_A.discard(\"pintar\")\n",
        "print(f\"Grupo A actualizado tras eliminar 'pintar': {grupo_A}\")\n"
      ]
    }
  ],
  "metadata": {
    "colab": {
      "provenance": []
    },
    "kernelspec": {
      "display_name": "Python 3",
      "name": "python3"
    },
    "language_info": {
      "name": "python"
    }
  },
  "nbformat": 4,
  "nbformat_minor": 0
}
