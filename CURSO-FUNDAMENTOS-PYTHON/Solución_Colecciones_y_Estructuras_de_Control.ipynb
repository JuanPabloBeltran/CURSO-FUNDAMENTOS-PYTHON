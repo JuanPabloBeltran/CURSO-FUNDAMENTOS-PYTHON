{
  "nbformat": 4,
  "nbformat_minor": 0,
  "metadata": {
    "colab": {
      "provenance": []
    },
    "kernelspec": {
      "name": "python3",
      "display_name": "Python 3"
    },
    "language_info": {
      "name": "python"
    }
  },
  "cells": [
    {
      "cell_type": "markdown",
      "source": [
        "#1."
      ],
      "metadata": {
        "id": "12AHNDSbX9x9"
      }
    },
    {
      "cell_type": "markdown",
      "source": [
        "Gestión de Inventario de Productos Descripción: Se debe desarrollar un sistema que administre un inventario compuesto por productos y sus cantidades. El programa presentará el listado inicial y resaltará aquellos artículos cuyo stock esté por debajo de un umbral definido. Luego, permitirá actualizar la cantidad de un producto específico, mostrando el inventario antes y después de la modificación."
      ],
      "metadata": {
        "id": "PaXoK3j0YFFB"
      }
    },
    {
      "cell_type": "code",
      "execution_count": 10,
      "metadata": {
        "colab": {
          "base_uri": "https://localhost:8080/"
        },
        "id": "hKpl-Ce1X9Gb",
        "outputId": "6b597c14-ca8b-4bcc-cfef-344f6fe75702"
      },
      "outputs": [
        {
          "output_type": "stream",
          "name": "stdout",
          "text": [
            "naranjas: 120\n",
            "tomates: 200\n",
            "platanos: 40-->Bajo stock!\n",
            "peras: 80-->Bajo stock!\n",
            "Ingrese el producto que desea actualizar: platanos\n",
            "Ingrese la nueva cantidad: 100000\n",
            "naranjas: 120 \n",
            "tomates: 200 \n",
            "platanos: 100000 \n",
            "peras: 80 Bajo stock!\n"
          ]
        }
      ],
      "source": [
        "inventario = {\n",
        "    \"naranjas\": 120,\n",
        "    \"tomates\": 200,\n",
        "    \"platanos\": 40,\n",
        "    \"peras\": 80\n",
        "}\n",
        "umbral = 90\n",
        "\n",
        "for producto, cantidad in inventario.items():\n",
        "    if cantidad < umbral:\n",
        "        print(f\"{producto}: {cantidad}-->Bajo stock!\")\n",
        "    else:\n",
        "        print(f\"{producto}: {cantidad}\")\n",
        "\n",
        "producto = input(\"Ingrese el producto que desea actualizar: \")\n",
        "if producto in inventario:\n",
        "    inventario[producto] = int(input(f\"Ingrese la nueva cantidad: \"))\n",
        "else:\n",
        "    print(\"Por favor, ingrese un producto valido.\")\n",
        "\n",
        "for producto, cantidad in inventario.items():\n",
        "    estado = \"Bajo stock!\" if cantidad < umbral else \"\"\n",
        "    print(f\"{producto}: {cantidad} {estado}\")\n"
      ]
    },
    {
      "cell_type": "markdown",
      "source": [
        "#2."
      ],
      "metadata": {
        "id": "2vCoGQSQdhOw"
      }
    },
    {
      "cell_type": "markdown",
      "source": [
        "Búsqueda de Palabras en un Texto Descripción: Crea una aplicación que solicite al usuario un párrafo y, a continuación, le permita buscar una palabra específica. El sistema debe contar cuántas veces aparece dicha palabra en el texto, mostrar las posiciones donde se encuentra (sin distinguir mayúsculas de minúsculas) y comunicar el resultado al usuario."
      ],
      "metadata": {
        "id": "PlIcku75dkBw"
      }
    },
    {
      "cell_type": "code",
      "source": [
        "parrafo = input(\"ingrese un parrafo: \")\n",
        "\n",
        "palabra = input(\"ingrese la palabra que desea buscar: \")\n",
        "\n",
        "print(parrafo)\n",
        "print(palabra)\n",
        "\n",
        "texto_minusculas = parrafo.lower()\n",
        "\n",
        "palabra_buscada_en_minuscula = palabra.lower()\n",
        "\n",
        "cantidad = texto_minusculas.count(palabra_buscada_en_minuscula)\n",
        "\n",
        "print(f\"La palabra '{palabra_buscada_en_minuscula}' aparece {cantidad} veces en el texto.\")\n",
        "\n",
        "\n",
        "posiciones = []\n",
        "indice = texto_minusculas.find(palabra_buscada_en_minuscula)\n",
        "\n",
        "while indice != -1:\n",
        "    posiciones.append(indice)\n",
        "    indice = texto_minusculas.find(palabra_buscada_en_minuscula, indice + 1)\n",
        "\n",
        "\n",
        "print(f\"Posiciones donde aparece '{palabra}': {posiciones}\")\n"
      ],
      "metadata": {
        "colab": {
          "base_uri": "https://localhost:8080/"
        },
        "id": "21FKwBrldpJA",
        "outputId": "20bf6b0b-7781-4b41-ff60-ae23a3b4ae61"
      },
      "execution_count": 14,
      "outputs": [
        {
          "output_type": "stream",
          "name": "stdout",
          "text": [
            "ingrese un parrafo: El sol brilla en el cielo. El día es hermoso y el viento sopla suavemente. El mar refleja el azul del cielo\n",
            "ingrese la palabra que desea buscar: el\n",
            "El sol brilla en el cielo. El día es hermoso y el viento sopla suavemente. El mar refleja el azul del cielo\n",
            "el\n",
            "La palabra 'el' aparece 9 veces en el texto.\n",
            "Posiciones donde aparece 'el': [0, 17, 22, 27, 47, 75, 90, 99, 104]\n"
          ]
        }
      ]
    },
    {
      "cell_type": "markdown",
      "source": [
        "#3."
      ],
      "metadata": {
        "id": "QHqZ1gOpgdsI"
      }
    },
    {
      "cell_type": "markdown",
      "source": [
        "Conversión y Limpieza de Texto Descripción: Diseña una solución que pida al usuario una frase, la divida en palabras y elimine cualquier carácter no alfabético de cada una. Una vez procesada la información, la estructura resultante se transformará en una forma inmutable, y se presentará el contenido final al usuario de manera ordenada."
      ],
      "metadata": {
        "id": "Rmr9WBX8gVUH"
      }
    },
    {
      "cell_type": "code",
      "source": [
        "frase = input(\"Ingrese una frase: \")\n",
        "\n",
        "\n",
        "palabras = frase.split()\n",
        "\n",
        "\n",
        "palabras_limpias = []\n",
        "for palabra in palabras:\n",
        "    palabra_limpia = \"\"\n",
        "    for caracter in palabra:\n",
        "        if caracter.isalpha():\n",
        "            palabra_limpia += caracter\n",
        "    palabras_limpias.append(palabra_limpia)\n",
        "\n",
        "\n",
        "resultado = tuple(palabras_limpias)\n",
        "\n",
        "\n",
        "print(\"\\nContenido final ordenado:\")\n",
        "print(sorted(resultado))\n"
      ],
      "metadata": {
        "colab": {
          "base_uri": "https://localhost:8080/"
        },
        "id": "HkMFUSyPgc-I",
        "outputId": "248e0605-6e46-4b12-c82f-8436ab65b08e"
      },
      "execution_count": 16,
      "outputs": [
        {
          "output_type": "stream",
          "name": "stdout",
          "text": [
            "Ingrese una frase: hola soy un among us muy feliz\n",
            "\n",
            "Contenido final ordenado:\n",
            "['among', 'feliz', 'hola', 'muy', 'soy', 'un', 'us']\n"
          ]
        }
      ]
    },
    {
      "cell_type": "markdown",
      "source": [
        "#4."
      ],
      "metadata": {
        "id": "19OE_3__hPEv"
      }
    },
    {
      "cell_type": "markdown",
      "source": [
        "Registro y Consulta de Calificaciones de Exámenes Descripción: Implementa un sistema que gestione un registro de estudiantes y sus calificaciones. El programa debe permitir agregar nuevos registros, listar todos los existentes y consultar la calificación de un estudiante introduciendo su nombre. Se espera que la información se actualice y se presente de forma clara en cada paso."
      ],
      "metadata": {
        "id": "xqDGCYgAhRI-"
      }
    },
    {
      "cell_type": "code",
      "source": [
        "\n",
        "calificaciones = {}\n",
        "\n",
        "while True:\n",
        "    print(\"1. Agregar calificación\")\n",
        "    print(\"2. Listar calificaciones\")\n",
        "    print(\"3. Consultar calificación de un estudiante\")\n",
        "    print(\"4. Salir del sistema\")\n",
        "\n",
        "    opcion = input(\"Seleccione una opción(1, 2, 3 o 4): \")\n",
        "\n",
        "    if opcion == \"1\":\n",
        "\n",
        "        nombre = input(\"Ingrese el nombre del estudiante: \")\n",
        "        if nombre in calificaciones:\n",
        "            print(\"Este estudiante ya tiene una calificación registrada.\")\n",
        "        else:\n",
        "            nota = float(input(\"Ingrese la calificación: \"))\n",
        "            calificaciones[nombre] = nota\n",
        "            print(f\"Calificación de {nombre} registrada correctamente.\")\n",
        "\n",
        "    elif opcion == \"2\":\n",
        "\n",
        "        if calificaciones:\n",
        "            print(\"Lista de calificaciones:\")\n",
        "            for estudiante, nota in calificaciones.items():\n",
        "                print(f\"{estudiante}: {nota}\")\n",
        "        else:\n",
        "            print(\"No hay calificaciones registradas.\")\n",
        "\n",
        "    elif opcion == \"3\":\n",
        "\n",
        "        nombre = input(\"Ingrese el nombre del estudiante: \")\n",
        "        if nombre in calificaciones:\n",
        "            print(f\"{nombre} tiene una calificación de {calificaciones[nombre]}.\")\n",
        "        else:\n",
        "            print(\"Estudiante no encontrado.\")\n",
        "\n",
        "    elif opcion == \"4\":\n",
        "        print(\"Saliendo del sistema\")\n",
        "        break\n",
        "\n",
        "    else:\n",
        "        print(\"Opción no válida, intente de nuevo.\")\n"
      ],
      "metadata": {
        "colab": {
          "base_uri": "https://localhost:8080/"
        },
        "id": "WwQT5stahZxI",
        "outputId": "9529403e-f819-45dc-8233-1ab70ba7a633"
      },
      "execution_count": 21,
      "outputs": [
        {
          "output_type": "stream",
          "name": "stdout",
          "text": [
            "1. Agregar calificación\n",
            "2. Listar calificaciones\n",
            "3. Consultar calificación de un estudiante\n",
            "4. Salir del sistema\n",
            "Seleccione una opción(1, 2, 3 o 4): 1\n",
            "Ingrese el nombre del estudiante: carlitos\n",
            "Ingrese la calificación: 100\n",
            "Calificación de carlitos registrada correctamente.\n",
            "1. Agregar calificación\n",
            "2. Listar calificaciones\n",
            "3. Consultar calificación de un estudiante\n",
            "4. Salir del sistema\n",
            "Seleccione una opción(1, 2, 3 o 4): 1\n",
            "Ingrese el nombre del estudiante: pepe\n",
            "Ingrese la calificación: 1\n",
            "Calificación de pepe registrada correctamente.\n",
            "1. Agregar calificación\n",
            "2. Listar calificaciones\n",
            "3. Consultar calificación de un estudiante\n",
            "4. Salir del sistema\n",
            "Seleccione una opción(1, 2, 3 o 4): 1\n",
            "Ingrese el nombre del estudiante: maria\n",
            "Ingrese la calificación: 53\n",
            "Calificación de maria registrada correctamente.\n",
            "1. Agregar calificación\n",
            "2. Listar calificaciones\n",
            "3. Consultar calificación de un estudiante\n",
            "4. Salir del sistema\n",
            "Seleccione una opción(1, 2, 3 o 4): 2\n",
            "Lista de calificaciones:\n",
            "carlitos: 100.0\n",
            "pepe: 1.0\n",
            "maria: 53.0\n",
            "1. Agregar calificación\n",
            "2. Listar calificaciones\n",
            "3. Consultar calificación de un estudiante\n",
            "4. Salir del sistema\n",
            "Seleccione una opción(1, 2, 3 o 4): 3\n",
            "Ingrese el nombre del estudiante: maria\n",
            "maria tiene una calificación de 53.0.\n",
            "1. Agregar calificación\n",
            "2. Listar calificaciones\n",
            "3. Consultar calificación de un estudiante\n",
            "4. Salir del sistema\n",
            "Seleccione una opción(1, 2, 3 o 4): 4\n",
            "Saliendo del sistema\n"
          ]
        }
      ]
    },
    {
      "cell_type": "markdown",
      "source": [
        "#5."
      ],
      "metadata": {
        "id": "TV60s9r4imm0"
      }
    },
    {
      "cell_type": "markdown",
      "source": [
        "Calculadora de Estadísticas de Números Descripción: Desarrolla una aplicación que trabaje con una colección de números predefinidos. El sistema debe ofrecer al usuario un menú interactivo con opciones para calcular el promedio, identificar el valor máximo y mínimo, o eliminar un número. Tras cada operación, se mostrará tanto el resultado como el estado actual de la colección."
      ],
      "metadata": {
        "id": "YFP0TjwjioTD"
      }
    },
    {
      "cell_type": "code",
      "source": [
        "numeros = [10, 25, 32, 47, 55, 60, 78, 85, 90, 100]\n",
        "\n",
        "while True:\n",
        "    print(\"1. Calcular promedio\")\n",
        "    print(\"2. Identificar valor máximo\")\n",
        "    print(\"3. Identificar valor mínimo\")\n",
        "    print(\"4. Eliminar un número\")\n",
        "    print(\"5. Mostrar colección actual\")\n",
        "    print(\"6. Salir\")\n",
        "\n",
        "    opcion = input(\"Seleccione una opción: \")\n",
        "\n",
        "    if opcion == \"1\":\n",
        "        if numeros:\n",
        "            promedio = sum(numeros) / len(numeros)\n",
        "            print(f\"El promedio de los números es: {promedio:.2f}\")\n",
        "        else:\n",
        "            print(\"La colección está vacía.\")\n",
        "\n",
        "    elif opcion == \"2\":\n",
        "        if numeros:\n",
        "            print(f\"El valor máximo es: {max(numeros)}\")\n",
        "        else:\n",
        "            print(\"La colección está vacía.\")\n",
        "\n",
        "    elif opcion == \"3\":\n",
        "        if numeros:\n",
        "            print(f\"El valor mínimo es: {min(numeros)}\")\n",
        "        else:\n",
        "            print(\"La colección está vacía.\")\n",
        "\n",
        "    elif opcion == \"4\":\n",
        "        if numeros:\n",
        "            try:\n",
        "                num = int(input(\"Ingrese el número que desea eliminar: \"))\n",
        "                if num in numeros:\n",
        "                    numeros.remove(num)\n",
        "                    print(f\"Se eliminó el número {num}.\")\n",
        "                else:\n",
        "                    print(\"El número no está en la colección.\")\n",
        "            except ValueError:\n",
        "                print(\"Ingrese un número válido.\")\n",
        "        else:\n",
        "            print(\"La colección está vacía.\")\n",
        "\n",
        "    elif opcion == \"5\":\n",
        "        print(f\"\\nEstado actual de la colección: {numeros}\")\n",
        "\n",
        "    elif opcion == \"6\":\n",
        "        print(\"Saliendo del sistema...\")\n",
        "        break\n",
        "\n",
        "    else:\n",
        "        print(\"Opción no válida, intente de nuevo.\")\n"
      ],
      "metadata": {
        "colab": {
          "base_uri": "https://localhost:8080/"
        },
        "id": "VeEPost5iq7r",
        "outputId": "b2c4b346-dced-49b2-a3aa-4ca8f86dba6d"
      },
      "execution_count": 22,
      "outputs": [
        {
          "output_type": "stream",
          "name": "stdout",
          "text": [
            "1. Calcular promedio\n",
            "2. Identificar valor máximo\n",
            "3. Identificar valor mínimo\n",
            "4. Eliminar un número\n",
            "5. Mostrar colección actual\n",
            "6. Salir\n",
            "Seleccione una opción: 1\n",
            "El promedio de los números es: 58.20\n",
            "1. Calcular promedio\n",
            "2. Identificar valor máximo\n",
            "3. Identificar valor mínimo\n",
            "4. Eliminar un número\n",
            "5. Mostrar colección actual\n",
            "6. Salir\n",
            "Seleccione una opción: 2\n",
            "El valor máximo es: 100\n",
            "1. Calcular promedio\n",
            "2. Identificar valor máximo\n",
            "3. Identificar valor mínimo\n",
            "4. Eliminar un número\n",
            "5. Mostrar colección actual\n",
            "6. Salir\n",
            "Seleccione una opción: 3\n",
            "El valor mínimo es: 10\n",
            "1. Calcular promedio\n",
            "2. Identificar valor máximo\n",
            "3. Identificar valor mínimo\n",
            "4. Eliminar un número\n",
            "5. Mostrar colección actual\n",
            "6. Salir\n",
            "Seleccione una opción: 4\n",
            "Ingrese el número que desea eliminar: 10\n",
            "Se eliminó el número 10.\n",
            "1. Calcular promedio\n",
            "2. Identificar valor máximo\n",
            "3. Identificar valor mínimo\n",
            "4. Eliminar un número\n",
            "5. Mostrar colección actual\n",
            "6. Salir\n",
            "Seleccione una opción: 5\n",
            "\n",
            "Estado actual de la colección: [25, 32, 47, 55, 60, 78, 85, 90, 100]\n",
            "1. Calcular promedio\n",
            "2. Identificar valor máximo\n",
            "3. Identificar valor mínimo\n",
            "4. Eliminar un número\n",
            "5. Mostrar colección actual\n",
            "6. Salir\n",
            "Seleccione una opción: 6\n",
            "Saliendo del sistema...\n"
          ]
        }
      ]
    }
  ]
}