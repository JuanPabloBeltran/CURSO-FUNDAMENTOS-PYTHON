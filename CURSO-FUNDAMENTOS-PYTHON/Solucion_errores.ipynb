{
 "cells": [
  {
   "cell_type": "markdown",
   "id": "c4f1afe6",
   "metadata": {},
   "source": [
    "#2. Realiza una función llamada agregar_una_vez(lista, el) que reciba una lista y un elemento. La función debe añadir el elemento al final de la lista con la condición de no repetir ningún elemento. Además si este elemento ya se encuentra en la lista se debe invocar un error de tipo ValueError que debes capturar y mostrar este mensaje en su lugar:\n",
    "\n",
    "\n",
    "```\n",
    "Error: Imposible añadir elementos duplicados => [elemento].\n",
    "```\n",
    "Mostrar el siguiente mensaje siempre que se ejecute independientemente de que la ejecución haya sido exitosa o no\n",
    "\n",
    "\n",
    "```\n",
    "Gracias por usar este programa\n",
    "```"
   ]
  },
  {
   "cell_type": "code",
   "execution_count": null,
   "id": "bee94433",
   "metadata": {},
   "outputs": [],
   "source": [
    "def agregar(lista, el):\n",
    "    try:\n",
    "        if el in lista:\n",
    "            raise ValueError(f\"Error: el elemento '{el}' ya se encuentra en la lista.\")\n",
    "        else:\n",
    "            lista.append(el)\n",
    "    except ValueError as e:\n",
    "        print(e)\n",
    "\n",
    "mi_lista = [1, 2, 3]\n",
    "\n",
    "print(\"Lista actual:\", mi_lista)\n",
    "\n",
    "entrada = input(\"Ingresa un elemento para agregar a la lista: \")\n",
    "\n",
    "try:\n",
    "    entrada = int(entrada)\n",
    "except ValueError:\n",
    "    pass  \n",
    "\n",
    "agregar(mi_lista, entrada)\n",
    "\n",
    "print(\"Lista actualizada:\", mi_lista)"
   ]
  }
 ],
 "metadata": {
  "kernelspec": {
   "display_name": "Python 3",
   "language": "python",
   "name": "python3"
  },
  "language_info": {
   "name": "python",
   "version": "3.12.4"
  }
 },
 "nbformat": 4,
 "nbformat_minor": 5
}
