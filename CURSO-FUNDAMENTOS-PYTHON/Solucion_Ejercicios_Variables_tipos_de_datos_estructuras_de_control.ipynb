{
  "cells": [
    {
      "cell_type": "markdown",
      "metadata": {
        "id": "z3tGxUvf2S6f"
      },
      "source": [
        "# EJERCICIOS  VARIABLES, TIPOS DE DATOS Y ESTRUCTURAS DE CONTROL\n",
        "\n",
        "LOs siguientes ejercicios incluyen los concpetos de variables, tipos de datos, operadores y estructiras de control, resulva cada uno aplicando cuando corresponda cada concepto."
      ]
    },
    {
      "cell_type": "markdown",
      "metadata": {
        "id": "UUZLpmbH2S6i"
      },
      "source": [
        "1. Calculadora Multiformato\n",
        "Desarrolla un programa que permita al usuario ingresar dos números y, a partir de ellos, realice diversas operaciones matemáticas. El sistema debe procesar la suma, la diferencia, el producto, la división, el residuo y la potencia, mostrando cada resultado junto a su respectivo formato numérico. Además, la solución debe encargarse de transformar la información recibida para asegurar que los cálculos se efectúen con precisión y se presenten de manera ordenada.\n",
        "\n",
        "2. Conversión entre Sistemas Numéricos\n",
        "El objetivo es construir una aplicación que solicite un número en formato decimal y lo convierta a sus equivalentes en otros sistemas, como el binario, el octal y el hexadecimal. Asimismo, el programa deberá permitir realizar la conversión inversa, de modo que el usuario pueda ingresar un número en cualquiera de estos formatos y obtener su valor en el sistema decimal. Se espera que la solución organice y formatee los resultados de manera clara para facilitar la comparación entre las distintas representaciones.\n",
        "\n",
        "3. Control de Precios y Descuentos\n",
        "Imagina una solución que pida al usuario el nombre de un producto junto con su precio original. El reto consiste en calcular un descuento fijo, mostrar el valor descontado y determinar el precio final tras aplicar la reducción. La información se debe presentar de forma legible, utilizando formatos que permitan distinguir claramente los montos involucrados y garantizando la exactitud en los cálculos mediante operaciones matemáticas adecuadas.\n",
        "\n",
        "4. Análisis Detallado de una Frase\n",
        "Crea una aplicación que invite al usuario a introducir una frase y que, a partir de ella, extraiga distintos elementos: la longitud total, la letra inicial y final, y una sección intermedia del texto. El sistema debe además transformar el contenido a diferentes presentaciones, como mayúsculas y minúsculas, y contar cuántas veces aparece un carácter específico. Este ejercicio pone a prueba la capacidad de manipular y transformar secuencias textuales, así como de realizar comparaciones y conteos precisos.\n",
        "\n",
        "5. Cálculo de Bonificaciones Laborales\n",
        "Diseña una solución que reciba datos de un trabajador, tales como su remuneración actual y el tiempo que ha estado en la empresa, para calcular una bonificación basada en un porcentaje determinado. El programa debe computar el incremento correspondiente, mostrar el monto adicional y el nuevo total, presentando la información de forma clara y formateada. El desafío consiste en aplicar operaciones aritméticas precisas y transformar los datos de entrada para lograr un resultado correcto y comprensible."
      ]
    },
    {
      "cell_type": "markdown",
      "source": [
        "#1."
      ],
      "metadata": {
        "id": "xN4K_mnj2YEg"
      }
    },
    {
      "cell_type": "code",
      "source": [
        "while True:\n",
        "    try:\n",
        "        numero1 = float(input(\"Ingresa el primer numero: \"))\n",
        "        numero2 = float(input(\"Ingresa el segundo numero: \"))\n",
        "\n",
        "        print(\"Resultados:\")\n",
        "        print(f\"Suma: {numero1} + {numero2} = {numero1 + numero2}\")\n",
        "        print(f\"Diferencia: {numero1} - {numero2} = {numero1 - numero2}\")\n",
        "        print(f\"Producto: {numero1} * {numero2} = {numero1 * numero2}\")\n",
        "\n",
        "        if numero2 != 0:\n",
        "            print(f\"Division: {numero1} / {numero2} = {numero1 / numero2}\")\n",
        "            print(f\"Residuo: {numero1} % {numero2} = {numero1 % numero2}\")\n",
        "        else:\n",
        "            print(\"Division y residuo no definidos para divisor 0.\")\n",
        "\n",
        "        print(f\"Potencia: {numero1} ^ {numero2} = {numero1 ** numero2}\")\n",
        "        break\n",
        "    except ValueError:\n",
        "        print(\"Por favor, ingresa numeros validos.\")"
      ],
      "metadata": {
        "colab": {
          "base_uri": "https://localhost:8080/"
        },
        "id": "AnjlTYgm2aun",
        "outputId": "5d744528-25ad-49d4-efc0-34fa9f71b737"
      },
      "execution_count": 1,
      "outputs": [
        {
          "output_type": "stream",
          "name": "stdout",
          "text": [
            "Ingresa el primer numero: 2\n",
            "Ingresa el segundo numero: 3\n",
            "Resultados:\n",
            "Suma: 2.0 + 3.0 = 5.0\n",
            "Diferencia: 2.0 - 3.0 = -1.0\n",
            "Producto: 2.0 * 3.0 = 6.0\n",
            "Division: 2.0 / 3.0 = 0.6666666666666666\n",
            "Residuo: 2.0 % 3.0 = 2.0\n",
            "Potencia: 2.0 ^ 3.0 = 8.0\n"
          ]
        }
      ]
    },
    {
      "cell_type": "markdown",
      "source": [
        "#2."
      ],
      "metadata": {
        "id": "pjDjw3CE24TL"
      }
    },
    {
      "cell_type": "code",
      "source": [
        "while True:\n",
        "    try:\n",
        "        opcion = input(\"¿Quieres convertir un numero decimal a otros sistemas o hacer la conversion inversa? (decimal/inversa): \").strip().lower()\n",
        "\n",
        "        if opcion == \"decimal\":\n",
        "            numero = int(input(\"Ingresa un numero decimal: \"))\n",
        "            print(f\"Binario: {bin(numero)[2:]}\")\n",
        "            print(f\"Octal: {oct(numero)[2:]}\")\n",
        "            print(f\"Hexadecimal: {hex(numero)[2:].upper()}\")\n",
        "            break\n",
        "\n",
        "        elif opcion == \"inversa\":\n",
        "            sistema = input(\"Ingresa el sistema de origen (binario/octal/hexadecimal): \").strip().lower()\n",
        "            numero = input(\"Ingresa el numero en el sistema elegido: \").strip()\n",
        "\n",
        "            if sistema == \"binario\":\n",
        "                print(f\"Decimal: {int(numero, 2)}\")\n",
        "            elif sistema == \"octal\":\n",
        "                print(f\"Decimal: {int(numero, 8)}\")\n",
        "            elif sistema == \"hexadecimal\":\n",
        "                print(f\"Decimal: {int(numero, 16)}\")\n",
        "            else:\n",
        "                print(\"Sistema no reconocido. Intenta de nuevo.\")\n",
        "                continue\n",
        "            break\n",
        "        else:\n",
        "            print(\"Opcion no valida. Escribe 'decimal' o 'inversa'.\")\n",
        "    except ValueError:\n",
        "        print(\"Entrada no valida. Verifica que ingresaste un numero correcto.\")"
      ],
      "metadata": {
        "colab": {
          "base_uri": "https://localhost:8080/"
        },
        "id": "7HzziGS9272c",
        "outputId": "40982d2c-4cac-4a29-81ae-ea1d96272982"
      },
      "execution_count": 3,
      "outputs": [
        {
          "output_type": "stream",
          "name": "stdout",
          "text": [
            "¿Quieres convertir un numero decimal a otros sistemas o hacer la conversion inversa? (decimal/inversa): inversa\n",
            "Ingresa el sistema de origen (binario/octal/hexadecimal): hexadecimal\n",
            "Ingresa el numero en el sistema elegido: A23\n",
            "Decimal: 2595\n"
          ]
        }
      ]
    },
    {
      "cell_type": "markdown",
      "source": [
        "#3."
      ],
      "metadata": {
        "id": "CzL-SZ613lGz"
      }
    },
    {
      "cell_type": "code",
      "source": [
        "while True:\n",
        "    try:\n",
        "        producto = input(\"Ingresa el nombre del producto: \").strip()\n",
        "        precio_original = float(input(\"Ingresa el precio original del producto: \"))\n",
        "        descuento = 0.10\n",
        "\n",
        "        valor_descuento = precio_original * descuento\n",
        "        precio_final = precio_original - valor_descuento\n",
        "\n",
        "        print(\"\\nResumen de compra:\")\n",
        "        print(f\"Producto: {producto}\")\n",
        "        print(f\"Precio original: ${precio_original:.2f}\")\n",
        "        print(f\"Descuento aplicado: ${valor_descuento:.2f} ({descuento * 100}%)\")\n",
        "        print(f\"Precio final con descuento: ${precio_final:.2f}\")\n",
        "        break\n",
        "    except ValueError:\n",
        "        print(\"Por favor, ingresa un precio valido.\")\n"
      ],
      "metadata": {
        "colab": {
          "base_uri": "https://localhost:8080/"
        },
        "id": "-M0LsvKa3pgZ",
        "outputId": "e31fdc69-1e7e-4c59-94f5-a87081b9cba7"
      },
      "execution_count": 4,
      "outputs": [
        {
          "output_type": "stream",
          "name": "stdout",
          "text": [
            "Ingresa el nombre del producto: unchicle\n",
            "Ingresa el precio original del producto: 100000\n",
            "\n",
            "Resumen de compra:\n",
            "Producto: unchicle\n",
            "Precio original: $100000.00\n",
            "Descuento aplicado: $10000.00 (10.0%)\n",
            "Precio final con descuento: $90000.00\n"
          ]
        }
      ]
    },
    {
      "cell_type": "markdown",
      "source": [
        "#4.\n"
      ],
      "metadata": {
        "id": "RHGZjqrJ4VVX"
      }
    },
    {
      "cell_type": "code",
      "source": [
        "while True:\n",
        "    try:\n",
        "        frase = input(\"Ingresa una frase: \").strip()\n",
        "        if not frase:\n",
        "            print(\"La frase no puede estar vacía. Intenta de nuevo.\")\n",
        "            continue\n",
        "\n",
        "        print(\"\\nAnálisis de la frase:\")\n",
        "        print(f\"Longitud total: {len(frase)} caracteres\")\n",
        "        print(f\"Letra inicial: {frase[0]}\")\n",
        "        print(f\"Letra final: {frase[-1]}\")\n",
        "\n",
        "        mitad = len(frase) // 2\n",
        "        print(f\"Sección intermedia: {frase[max(0, mitad-3):mitad+3]}\")\n",
        "\n",
        "        print(f\"En mayúsculas: {frase.upper()}\")\n",
        "        print(f\"En minúsculas: {frase.lower()}\")\n",
        "\n",
        "        caracter = input(\"Ingresa un carácter para contar su aparición en la frase: \").strip()\n",
        "        if len(caracter) == 1:\n",
        "            print(f\"El carácter '{caracter}' aparece {frase.count(caracter)} veces en la frase.\")\n",
        "        else:\n",
        "            print(\"No ingresaste un único carácter válido para contar.\")\n",
        "        break\n",
        "    except ValueError:\n",
        "        print(\"Entrada no válida. Intenta de nuevo.\")\n"
      ],
      "metadata": {
        "colab": {
          "base_uri": "https://localhost:8080/"
        },
        "id": "-RqazfZw4X2C",
        "outputId": "b6959884-7c91-4753-a83e-cb911969caf8"
      },
      "execution_count": 5,
      "outputs": [
        {
          "output_type": "stream",
          "name": "stdout",
          "text": [
            "Ingresa una frase: Tacos de agua\n",
            "\n",
            "Análisis de la frase:\n",
            "Longitud total: 13 caracteres\n",
            "Letra inicial: T\n",
            "Letra final: a\n",
            "Sección intermedia: os de \n",
            "En mayúsculas: TACOS DE AGUA\n",
            "En minúsculas: tacos de agua\n",
            "Ingresa un carácter para contar su aparición en la frase: a\n",
            "El carácter 'a' aparece 3 veces en la frase.\n"
          ]
        }
      ]
    },
    {
      "cell_type": "markdown",
      "source": [
        "#5."
      ],
      "metadata": {
        "id": "-Otv9PL05Z9Q"
      }
    },
    {
      "cell_type": "code",
      "source": [
        "while True:\n",
        "    try:\n",
        "        salario = float(input(\"Ingresa la remuneración actual: \"))\n",
        "        tiempo = int(input(\"Ingresa el tiempo en la empresa (en años): \"))\n",
        "\n",
        "        if tiempo < 1:\n",
        "            bonificacion = 0.05  # 5% para empleados con menos de 1 año\n",
        "        elif tiempo < 5:\n",
        "            bonificacion = 0.10  # 10% para empleados entre 1 y 5 años\n",
        "        else:\n",
        "            bonificacion = 0.15  # 15% para empleados con 5 o más años\n",
        "\n",
        "        monto_bonificacion = salario * bonificacion\n",
        "        nuevo_total = salario + monto_bonificacion\n",
        "\n",
        "        print(\"\\nResumen de Bonificación:\")\n",
        "        print(f\"Salario actual: ${salario:.2f}\")\n",
        "        print(f\"Bonificación aplicada: ${monto_bonificacion:.2f} ({bonificacion * 100}%)\")\n",
        "        print(f\"Nuevo salario total: ${nuevo_total:.2f}\")\n",
        "        break\n",
        "    except ValueError:\n",
        "        print(\"Por favor, ingresa valores válidos.\")\n"
      ],
      "metadata": {
        "colab": {
          "base_uri": "https://localhost:8080/"
        },
        "id": "fmTtBMoh5dkQ",
        "outputId": "7980f105-b707-4dbb-a0eb-2818ab04be07"
      },
      "execution_count": 9,
      "outputs": [
        {
          "output_type": "stream",
          "name": "stdout",
          "text": [
            "Ingresa la remuneración actual: 4000000\n",
            "Ingresa el tiempo en la empresa (en años): 10\n",
            "\n",
            "Resumen de Bonificación:\n",
            "Salario actual: $4000000.00\n",
            "Bonificación aplicada: $600000.00 (15.0%)\n",
            "Nuevo salario total: $4600000.00\n"
          ]
        }
      ]
    }
  ],
  "metadata": {
    "language_info": {
      "name": "python"
    },
    "colab": {
      "provenance": []
    },
    "kernelspec": {
      "name": "python3",
      "display_name": "Python 3"
    }
  },
  "nbformat": 4,
  "nbformat_minor": 0
}