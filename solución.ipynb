{
  "cells": [
    {
      "cell_type": "markdown",
      "metadata": {
        "id": "gutEQrV2VrVK"
      },
      "source": [
        "# 1) Calcular indice de la cosecha de un cultivo\n"
      ]
    },
    {
      "cell_type": "code",
      "execution_count": null,
      "metadata": {
        "id": "gbobnvgaV7ur"
      },
      "outputs": [],
      "source": []
    },
    {
      "cell_type": "code",
      "execution_count": 5,
      "metadata": {
        "colab": {
          "base_uri": "https://localhost:8080/"
        },
        "id": "C2q7aaOBUjGM",
        "outputId": "39ef0011-4823-4d1e-e70b-678840ba54e1"
      },
      "outputs": [
        {
          "name": "stdout",
          "output_type": "stream",
          "text": [
            "Bienvenido usuario a la calculadora del indice de cocecha de un cultivo\n",
            "Por favor, ingrese la cantidad de frutos recolectados30\n",
            "Por favor, ingrese la cantidad de frutos producidos40\n",
            "El indice de la cocecha es de un  75.0\n"
          ]
        }
      ],
      "source": [
        "print(\"Bienvenido usuario a la calculadora del indice de cocecha de un cultivo\")\n",
        "\n",
        "frutosrecolectados = input(\"Por favor, ingrese la cantidad de frutos recolectados\")\n",
        "\n",
        "frutosproducidos = input(\"Por favor, ingrese la cantidad de frutos producidos\")\n",
        "\n",
        "indicecocecha = (int(frutosrecolectados) / int(frutosproducidos)) * 100\n",
        "\n",
        "print(\"El indice de la cocecha es de un \", indicecocecha)"
      ]
    },
    {
      "cell_type": "markdown",
      "metadata": {
        "id": "8UIMa-mwWCVU"
      },
      "source": [
        "# 2) Dibujar la P de Python que abarque 7 filas y 5 columnas."
      ]
    },
    {
      "cell_type": "code",
      "execution_count": 14,
      "metadata": {
        "colab": {
          "base_uri": "https://localhost:8080/"
        },
        "id": "TP5mLfbZWOJ9",
        "outputId": "f5860a3e-bb79-472c-9a28-fc32a6c1be3d"
      },
      "outputs": [
        {
          "name": "stdout",
          "output_type": "stream",
          "text": [
            "+-----+\n",
            "|     |\n",
            "+-----+\n",
            "|\n",
            "|\n"
          ]
        }
      ],
      "source": [
        "print(\"+\" + 5 * \"-\" + \"+\" + \"\\n\" + (\"|\" + \" \" * 5 + \"|\\n\") + \"+\" + 5 * \"-\" + \"+\" + \"\\n\" + (\"|\") + \"\\n\" + (\"|\"))"
      ]
    },
    {
      "cell_type": "markdown",
      "metadata": {
        "id": "KHhBUNesZUIt"
      },
      "source": [
        "# 3) Un alumno desea saber cuál será su calificación final en la materia de Matemáticas. Dicha calificación se compone de los siguientes porcentajes:\n",
        "# 55% del promedio de sus tres calificaciones parciales (se debe leer cada calificación parcial).\n",
        "# 30% de la calificación del examen final.\n",
        "# 15% de la calificación de un trabajo final."
      ]
    },
    {
      "cell_type": "code",
      "execution_count": 13,
      "metadata": {
        "colab": {
          "base_uri": "https://localhost:8080/"
        },
        "id": "W_hw4ok5u_FC",
        "outputId": "d0e2d15a-f095-4adc-b1db-137051512fb5"
      },
      "outputs": [
        {
          "name": "stdout",
          "output_type": "stream",
          "text": [
            "Bienvenido, usuario a la calculadora de calificaciones\n",
            "Primero se calculara el promedio de las tres calificaciones parciales\n",
            "Por favor, ingrese la primera calificacion parcial 7\n",
            "Por favor, ingrese la segunda calificacion parcial 8\n",
            "Por favor, ingrese la tercera calificacion parcial 9\n",
            "El promedio de las tres calificaciones parciales es de  8.0\n",
            "Ahora se calculara la calificacion del examen final\n",
            "Por favor, ingrese la calificacion del examen final6\n",
            "Ahora se calculara la calificacion del trabajo final\n",
            "Por favor, ingrese la calificacion del trabajo final7\n",
            "La calificacion final del alumno es de  7.25\n"
          ]
        }
      ],
      "source": [
        "print(\"Bienvenido, usuario a la calculadora de calificaciones\")\n",
        "print(\"Primero se calculara el promedio de las tres calificaciones parciales\")\n",
        "\n",
        "calificacion1 = int(input(\"Por favor, ingrese la primera calificacion parcial \"))\n",
        "calificacion2 = int(input(\"Por favor, ingrese la segunda calificacion parcial \"))\n",
        "calificacion3 = int(input(\"Por favor, ingrese la tercera calificacion parcial \"))\n",
        "\n",
        "promediocalificacionesparciales = (calificacion1 + calificacion2 + calificacion3) / 3\n",
        "\n",
        "print(\"El promedio de las tres calificaciones parciales es de \", promediocalificacionesparciales)\n",
        "\n",
        "print(\"Ahora se calculara la calificacion del examen final\")\n",
        "\n",
        "calificacionexamenfinal = int(input(\"Por favor, ingrese la calificacion del examen final\" ))\n",
        "\n",
        "print(\"Ahora se calculara la calificacion del trabajo final\")\n",
        "\n",
        "calificaciontrabajo = int(input(\"Por favor, ingrese la calificacion del trabajo final\" ))\n",
        "\n",
        "calificacionfinal = (promediocalificacionesparciales * 0.55) + (calificacionexamenfinal * 0.30) + (calificaciontrabajo * 0.15)\n",
        "\n",
        "print(\"La calificacion final del alumno es de \", calificacionfinal)"
      ]
    },
    {
      "cell_type": "markdown",
      "metadata": {
        "id": "YjlA0J9Kymcz"
      },
      "source": [
        "# 4) Recibir una frase por parte del usuario y devolver el número de palabras que se encuentran en la frase."
      ]
    },
    {
      "cell_type": "code",
      "execution_count": 24,
      "metadata": {
        "colab": {
          "base_uri": "https://localhost:8080/"
        },
        "id": "4aO6iEhKzEYn",
        "outputId": "6bdb6155-4960-4836-cb94-3271e4d2a203"
      },
      "outputs": [
        {
          "name": "stdout",
          "output_type": "stream",
          "text": [
            "Bienvenido usuario, por favor ingrese una frase:necesitas ayuda?\n",
            "El numero de palabras en la frase es de  16\n"
          ]
        }
      ],
      "source": [
        "palabra = input(\"Bienvenido usuario, por favor ingrese una frase:\")\n",
        "\n",
        "numerodepalabras = palabra.count(\"\") - 1\n",
        "\n",
        "print(\"El numero de palabras en la frase es de \", numerodepalabras)"
      ]
    },
    {
      "cell_type": "markdown",
      "metadata": {
        "id": "rVyXTcrd2KsO"
      },
      "source": [
        "# 5) Recibir una frase y transformarla a mayúscula sostenida e invirtiendo su contenido."
      ]
    },
    {
      "cell_type": "code",
      "execution_count": 27,
      "metadata": {
        "colab": {
          "base_uri": "https://localhost:8080/"
        },
        "id": "qTkyVeJ12bfQ",
        "outputId": "addda353-da66-46cc-c42a-a0041e24e8e6"
      },
      "outputs": [
        {
          "name": "stdout",
          "output_type": "stream",
          "text": [
            "Bienvenido usuario, por favor ingrese una frase:hola\n",
            "HOLA\n",
            "aloh\n"
          ]
        }
      ],
      "source": [
        "frase = input(\"Bienvenido usuario, por favor ingrese una frase:\")\n",
        "\n",
        "frasemayuscula = frase.upper()\n",
        "\n",
        "fraseinvertida = frase[::-1]\n",
        "\n",
        "print(frasemayuscula)\n",
        "print(fraseinvertida)"
      ]
    }
  ],
  "metadata": {
    "colab": {
      "provenance": []
    },
    "kernelspec": {
      "display_name": "Python 3",
      "name": "python3"
    },
    "language_info": {
      "name": "python"
    }
  },
  "nbformat": 4,
  "nbformat_minor": 0
}
